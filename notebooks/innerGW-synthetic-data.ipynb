{
 "cells": [
  {
   "cell_type": "code",
   "execution_count": null,
   "metadata": {},
   "outputs": [],
   "source": [
    "%load_ext autoreload\n",
    "%autoreload 2\n",
    "\n",
    "import sys\n",
    "sys.path.append(\"..\")"
   ]
  },
  {
   "cell_type": "code",
   "execution_count": null,
   "metadata": {},
   "outputs": [],
   "source": [
    "import torch\n",
    "\n",
    "from src.costs import *\n",
    "from src.distributions import *\n",
    "from src.loggers import WandbLogger\n",
    "from src.models.simple import mlp\n",
    "from src.plotters import Plotter\n",
    "from src.train import run_experiment, Experiment\n",
    "from src.utils import *\n"
   ]
  },
  {
   "cell_type": "code",
   "execution_count": null,
   "metadata": {},
   "outputs": [],
   "source": [
    "np.random.seed(0);\n",
    "torch.manual_seed(0);"
   ]
  },
  {
   "cell_type": "code",
   "execution_count": null,
   "metadata": {},
   "outputs": [],
   "source": [
    "logger = WandbLogger(\n",
    "    project=\"optimal-transport\",\n",
    "    entity=\"_devourer_\",\n",
    "    group=\"test\",\n",
    "    mode=\"offline\",\n",
    ")\n",
    "\n",
    "plotter = Plotter(\n",
    "    plot_target=True,\n",
    "    plot_critic=False,\n",
    "    plot_arrows=False,\n",
    "    n_samples=512\n",
    ")\n",
    "\n",
    "config = dict(\n",
    "    num_epochs=100,\n",
    "    num_samples=512,\n",
    "    num_steps_mover=10,\n",
    "    num_steps_critic=1,\n",
    ")\n",
    "\n",
    "DEVICE = torch.device(\"cuda\" if torch.cuda.is_available() else \"cpu\")\n",
    "if torch.cuda.is_available():\n",
    "    torch.cuda.set_device(2)\n",
    "print(DEVICE)"
   ]
  },
  {
   "cell_type": "markdown",
   "metadata": {},
   "source": [
    "### Case \\#1: Gaussian to Gaussian"
   ]
  },
  {
   "cell_type": "code",
   "execution_count": null,
   "metadata": {},
   "outputs": [],
   "source": [
    "source = to_composite(Normal(torch.tensor([3., 0.]), torch.tensor([1., 2.]), device=DEVICE))\n",
    "target = Normal(torch.tensor([-3., 0.]), torch.tensor([1., 2.]), device=DEVICE)\n",
    "p, q = source.event_shape.numel(), target.event_shape.numel()\n",
    "\n",
    "critic = mlp(q, hidden_size=64).to(DEVICE)\n",
    "mover = mlp(p, q, hidden_size=64).to(DEVICE)"
   ]
  },
  {
   "cell_type": "markdown",
   "metadata": {},
   "source": [
    "#### Fixed $P$ cost"
   ]
  },
  {
   "cell_type": "code",
   "execution_count": null,
   "metadata": {},
   "outputs": [],
   "source": [
    "run_experiment(\n",
    "    source, target, *copy_models(mover, critic),\n",
    "    cost=InnerGW(p, q, device=DEVICE),\n",
    "    plotter=plotter,\n",
    "    # logger=logger,\n",
    "    **config\n",
    ")"
   ]
  },
  {
   "cell_type": "code",
   "execution_count": null,
   "metadata": {},
   "outputs": [],
   "source": [
    "run_experiment(\n",
    "    source, target, *copy_models(mover, critic),\n",
    "    cost=InnerGW(p, q, device=DEVICE),\n",
    "    plotter=plotter,\n",
    "    logger=logger,\n",
    "    **config\n",
    ")"
   ]
  },
  {
   "cell_type": "markdown",
   "metadata": {},
   "source": [
    "### Kernel cost"
   ]
  },
  {
   "cell_type": "code",
   "execution_count": null,
   "metadata": {},
   "outputs": [],
   "source": [
    "run_experiment(\n",
    "    source, target, mover, critic,\n",
    "    cost=innerGW_kernel(kernel_1, source, mover, n_samples_mc=512),\n",
    "    plotter=plotter,\n",
    "    # logger=logger,\n",
    "    num_steps_mover=5,\n",
    "    **config\n",
    ")"
   ]
  },
  {
   "cell_type": "markdown",
   "metadata": {},
   "source": [
    "#### Trainable $P$ cost"
   ]
  },
  {
   "cell_type": "code",
   "execution_count": null,
   "metadata": {},
   "outputs": [],
   "source": [
    "run_experiment(\n",
    "    source, target, *copy_models(mover, critic),\n",
    "    cost=InnerGW_opt(p, q, device=DEVICE),\n",
    "    plotter=plotter,\n",
    "    # logger=logger,\n",
    "    num_steps_cost=10,\n",
    "    **config\n",
    ")"
   ]
  },
  {
   "cell_type": "markdown",
   "metadata": {},
   "source": [
    "### Case \\#3: 3D-GMM to 2D-GMM same components"
   ]
  },
  {
   "cell_type": "code",
   "execution_count": null,
   "metadata": {},
   "outputs": [],
   "source": [
    "n_components = 10\n",
    "\n",
    "locs_3d = 2 * fibonacci_sphere(n_components)\n",
    "scales_3d = .1 * torch.ones_like(locs_3d)\n",
    "source = GaussianMixture(locs_3d, scales_3d, device=DEVICE)\n",
    "\n",
    "locs_2d = uniform_circle(n_components)\n",
    "scales_2d = .1 * torch.ones_like(locs_2d)\n",
    "target = GaussianMixture(locs_2d, scales_2d, device=DEVICE)\n",
    "\n",
    "p, q = source.event_shape.numel(), target.event_shape.numel()\n",
    "\n",
    "critic = mlp(q, hidden_size=64).to(DEVICE)\n",
    "mover = mlp(p, q, hidden_size=64).to(DEVICE)"
   ]
  },
  {
   "cell_type": "markdown",
   "metadata": {},
   "source": [
    "#### Fixed $P$ cost"
   ]
  },
  {
   "cell_type": "code",
   "execution_count": null,
   "metadata": {},
   "outputs": [],
   "source": [
    "run_experiment(\n",
    "    source, target, *copy_models(mover, critic),\n",
    "    cost=InnerGW(p, q, device=DEVICE),\n",
    "    plotter=plotter,\n",
    "    # logger=logger,\n",
    "    **config\n",
    ")"
   ]
  },
  {
   "cell_type": "markdown",
   "metadata": {},
   "source": [
    "#### Trainable $P$ cost"
   ]
  },
  {
   "cell_type": "code",
   "execution_count": null,
   "metadata": {},
   "outputs": [],
   "source": [
    "run_experiment(\n",
    "    source, target, *copy_models(mover, critic),\n",
    "    cost=InnerGW_opt(p, q, device=DEVICE),\n",
    "    plotter=plotter,\n",
    "    # logger=logger,\n",
    "    num_steps_cost=10,\n",
    "    **config\n",
    ")"
   ]
  },
  {
   "cell_type": "markdown",
   "metadata": {},
   "source": [
    "### Kernel cost"
   ]
  },
  {
   "cell_type": "code",
   "execution_count": null,
   "metadata": {},
   "outputs": [],
   "source": [
    "run_experiment(\n",
    "    source, target, mover, critic,\n",
    "    cost=innerGW_kernel(kernel_1, source, mover, n_samples_mc=512),\n",
    "    plotter=plotter,\n",
    "    # logger=logger\n",
    "    num_steps_mover=5,\n",
    "    **config\n",
    ")"
   ]
  }
 ],
 "metadata": {
  "interpreter": {
   "hash": "40d3a090f54c6569ab1632332b64b2c03c39dcf918b08424e98f38b5ae0af88f"
  },
  "kernelspec": {
   "display_name": "Python 3",
   "language": "python",
   "name": "python3"
  },
  "language_info": {
   "codemirror_mode": {
    "name": "ipython",
    "version": 3
   },
   "file_extension": ".py",
   "mimetype": "text/x-python",
   "name": "python",
   "nbconvert_exporter": "python",
   "pygments_lexer": "ipython3",
   "version": "3.8.13"
  }
 },
 "nbformat": 4,
 "nbformat_minor": 2
}
