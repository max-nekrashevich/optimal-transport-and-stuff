{
 "cells": [
  {
   "cell_type": "code",
   "execution_count": 1,
   "metadata": {},
   "outputs": [],
   "source": [
    "%load_ext autoreload\n",
    "%autoreload 2\n",
    "\n",
    "import sys\n",
    "sys.path.append(\"..\")"
   ]
  },
  {
   "cell_type": "code",
   "execution_count": 2,
   "metadata": {},
   "outputs": [],
   "source": [
    "from pathlib import Path\n",
    "\n",
    "import numpy as np\n",
    "import torch\n",
    "import torch.optim as o\n",
    "import torch.optim.lr_scheduler as lr\n",
    "from torchvision import transforms as t, datasets as d\n",
    "from sklearn.model_selection import train_test_split\n",
    "\n",
    "from src.costs import *\n",
    "from src.distributions import *\n",
    "from src.loggers import WandbLogger\n",
    "from src.models.unet import unet_h\n",
    "from src.plotters import ImagePlotter\n",
    "from src.train import run_experiment\n",
    "from src.utils import *\n",
    "from src.models.resnet2 import ResNet_D, weights_init_D"
   ]
  },
  {
   "cell_type": "code",
   "execution_count": 3,
   "metadata": {},
   "outputs": [],
   "source": [
    "np.random.seed(0);\n",
    "torch.manual_seed(0);"
   ]
  },
  {
   "cell_type": "code",
   "execution_count": 7,
   "metadata": {},
   "outputs": [
    {
     "name": "stdout",
     "output_type": "stream",
     "text": [
      "cuda\n"
     ]
    }
   ],
   "source": [
    "LOGGER = WandbLogger(\n",
    "    project=\"optimal-transport\",\n",
    "    entity=\"_devourer_\",\n",
    "    group=\"style-transfer\",\n",
    "    mode=\"offline\",\n",
    ")\n",
    "\n",
    "PLOTTER = ImagePlotter(n_images=10,\n",
    "                       n_samples=10,\n",
    "                       plot_source=True)\n",
    "\n",
    "CONFIG = dict(\n",
    "    num_epochs=200,\n",
    "    num_samples=64,\n",
    "    num_steps_train=250,\n",
    "    num_steps_eval=250,\n",
    "    # optimizer_params=dict(\n",
    "    #     lr=2e-5\n",
    "    # ),\n",
    "    # scheduler_params=dict(\n",
    "    #     type=lr.CyclicLR,\n",
    "    #     params=dict(\n",
    "    #         base_lr=1e-4,\n",
    "    #         max_lr=1e-2,\n",
    "    #         mode=\"triangular\"\n",
    "    #     )\n",
    "    # ),\n",
    ")\n",
    "\n",
    "# TRANSFORM = t.Compose([t.ToTensor(), t.Resize(32)])\n",
    "TRANSFORM = t.ToTensor()\n",
    "\n",
    "CHECKPOINT_DIR = Path(\"../checkpoints/\")\n",
    "if not CHECKPOINT_DIR.exists():\n",
    "    CHECKPOINT_DIR.mkdir()\n",
    "\n",
    "DEVICE = torch.device(\"cpu\")\n",
    "if torch.cuda.is_available():\n",
    "    torch.cuda.set_device(2)\n",
    "    DEVICE = torch.device(\"cuda\")\n",
    "print(DEVICE)"
   ]
  },
  {
   "cell_type": "code",
   "execution_count": 6,
   "metadata": {},
   "outputs": [
    {
     "data": {
      "application/vnd.jupyter.widget-view+json": {
       "model_id": "c452ebf66744455b95afa9eaf82daf75",
       "version_major": 2,
       "version_minor": 0
      },
      "text/plain": [
       "  0%|          | 0/60000 [00:00<?, ?it/s]"
      ]
     },
     "metadata": {},
     "output_type": "display_data"
    },
    {
     "data": {
      "application/vnd.jupyter.widget-view+json": {
       "model_id": "743dbfcfffbc403e8fc268230d3e4107",
       "version_major": 2,
       "version_minor": 0
      },
      "text/plain": [
       "  0%|          | 0/60000 [00:00<?, ?it/s]"
      ]
     },
     "metadata": {},
     "output_type": "display_data"
    }
   ],
   "source": [
    "features, classes = load_dataset(d.FashionMNIST, root=\"../data/\",\n",
    "                                 transform=TRANSFORM)\n",
    "source = TensorDatasetDistribution(features, classes, device=DEVICE)\n",
    "\n",
    "features, classes = load_dataset(d.MNIST, root=\"../data/\",\n",
    "                                 transform=TRANSFORM)\n",
    "target = TensorDatasetDistribution(features, classes, device=DEVICE)\n",
    "\n",
    "p, q = source.event_shape, target.event_shape"
   ]
  },
  {
   "cell_type": "code",
   "execution_count": 9,
   "metadata": {},
   "outputs": [],
   "source": [
    "critic = ResNet_D(size=32, nc=1).to(DEVICE).apply(weights_init_D)\n",
    "mover = nn.Sequential(unet_h(source.event_shape, base_channels=48), nn.Tanh()).to(DEVICE)"
   ]
  },
  {
   "cell_type": "code",
   "execution_count": 18,
   "metadata": {},
   "outputs": [
    {
     "data": {
      "application/vnd.jupyter.widget-view+json": {
       "model_id": "2a63306c163b42599fddc1d270502d66",
       "version_major": 2,
       "version_minor": 0
      },
      "text/plain": [
       "Epoch:   0%|          | 0/6 [00:00<?, ?it/s]"
      ]
     },
     "metadata": {},
     "output_type": "display_data"
    },
    {
     "data": {
      "application/vnd.jupyter.widget-view+json": {
       "model_id": "fd82471862084a71938da80de793495d",
       "version_major": 2,
       "version_minor": 0
      },
      "text/plain": [
       "Training:   0%|          | 0/25 [00:00<?, ?it/s]"
      ]
     },
     "metadata": {},
     "output_type": "display_data"
    },
    {
     "data": {
      "application/vnd.jupyter.widget-view+json": {
       "model_id": "14d15b6f83d04931a002ac2972e0972f",
       "version_major": 2,
       "version_minor": 0
      },
      "text/plain": [
       "Validating:   0%|          | 0/25 [00:00<?, ?it/s]"
      ]
     },
     "metadata": {},
     "output_type": "display_data"
    },
    {
     "name": "stdout",
     "output_type": "stream",
     "text": [
      "self.name='test_run'\n",
      "logger.name='test_run'\n",
      "self.name='test_run'\n",
      "logger.name='test_run'\n"
     ]
    },
    {
     "data": {
      "application/vnd.jupyter.widget-view+json": {
       "model_id": "8fd8b76e3d9142b4a04470d6c8d65a61",
       "version_major": 2,
       "version_minor": 0
      },
      "text/plain": [
       "Output()"
      ]
     },
     "metadata": {},
     "output_type": "display_data"
    },
    {
     "name": "stdout",
     "output_type": "stream",
     "text": [
      "Saving checkpoints to: ../checkpoints/test_run_epoch=0\n"
     ]
    }
   ],
   "source": [
    "run_experiment(\n",
    "    source, target, *copy_models(mover, critic),\n",
    "    cost=InnerGW(p, q, device=DEVICE),\n",
    "    use_fid=False,\n",
    "    name=\"test_run\",\n",
    "    plotter=PLOTTER,\n",
    "    # logger=LOGGER,\n",
    "    checkpoint_dir=CHECKPOINT_DIR,\n",
    "    **CONFIG\n",
    ")"
   ]
  },
  {
   "cell_type": "code",
   "execution_count": null,
   "metadata": {},
   "outputs": [],
   "source": [
    "run_experiment(\n",
    "    source, target, *copy_models(mover, critic),\n",
    "    cost=InnerGW_conv(device=DEVICE),\n",
    "    num_steps_cost=5,\n",
    "    plotter=PLOTTER,\n",
    "    logger=LOGGER,\n",
    "    use_fid=False,\n",
    "    **CONFIG\n",
    ")"
   ]
  },
  {
   "cell_type": "code",
   "execution_count": 7,
   "metadata": {},
   "outputs": [
    {
     "data": {
      "application/vnd.jupyter.widget-view+json": {
       "model_id": "86b5e7f32d4a4a6d984f88de2af40227",
       "version_major": 2,
       "version_minor": 0
      },
      "text/plain": [
       "  0%|          | 0/138767 [00:00<?, ?it/s]"
      ]
     },
     "metadata": {},
     "output_type": "display_data"
    },
    {
     "data": {
      "application/vnd.jupyter.widget-view+json": {
       "model_id": "9078c482476246a6bd917037d59166f8",
       "version_major": 2,
       "version_minor": 0
      },
      "text/plain": [
       "  0%|          | 0/50025 [00:00<?, ?it/s]"
      ]
     },
     "metadata": {},
     "output_type": "display_data"
    },
    {
     "name": "stderr",
     "output_type": "stream",
     "text": [
      "/opt/anaconda3/lib/python3.9/site-packages/torchvision/models/_utils.py:208: UserWarning: The parameter 'pretrained' is deprecated since 0.13 and will be removed in 0.15, please use 'weights' instead.\n",
      "  warnings.warn(\n",
      "/opt/anaconda3/lib/python3.9/site-packages/torchvision/models/_utils.py:223: UserWarning: Arguments other than a weight enum or `None` for 'weights' are deprecated since 0.13 and will be removed in 0.15. The current behavior is equivalent to passing `weights=None`.\n",
      "  warnings.warn(msg)\n"
     ]
    },
    {
     "data": {
      "application/vnd.jupyter.widget-view+json": {
       "model_id": "fa178c39d63a440c9f76b0e57f8fb9cf",
       "version_major": 2,
       "version_minor": 0
      },
      "text/plain": [
       "  0%|          | 0/40 [00:00<?, ?it/s]"
      ]
     },
     "metadata": {},
     "output_type": "display_data"
    }
   ],
   "source": [
    "handbags = load_h5py(\"../data/handbag_64.hdf5\", transform=TRANSFORM)\n",
    "shoes = load_h5py(\"../data/shoes_64.hdf5\", transform=TRANSFORM)\n",
    "\n",
    "handbags_train, handbags_eval = train_test_split(handbags, test_size=.1)\n",
    "shoes_train, shoes_eval = train_test_split(shoes, test_size=.1)\n",
    "\n",
    "source = TensorDatasetDistribution(handbags_train,\n",
    "                                   torch.zeros(handbags_train.size(0)),\n",
    "                                   device=DEVICE,\n",
    "                                   store_on_device=False)\n",
    "target = TensorDatasetDistribution(shoes_train,\n",
    "                                   torch.zeros(shoes_train.size(0)),\n",
    "                                   device=DEVICE,\n",
    "                                   store_on_device=False)\n",
    "\n",
    "source_eval = TensorDatasetDistribution(handbags_eval,\n",
    "                                        torch.zeros(handbags_eval.size(0)),\n",
    "                                        device=DEVICE,\n",
    "                                        store_on_device=False)\n",
    "target_eval = TensorDatasetDistribution(shoes_eval,\n",
    "                                        torch.zeros(shoes_eval.size(0)),\n",
    "                                        device=DEVICE,\n",
    "                                        store_on_device=False)\n",
    "fid_mu, fid_sigma = get_inception_statistics(shoes_eval,\n",
    "                                             128, verbose=True)\n",
    "\n",
    "p, q = source.event_shape, target.event_shape"
   ]
  },
  {
   "cell_type": "code",
   "execution_count": 8,
   "metadata": {},
   "outputs": [],
   "source": [
    "critic = ResNet_D(size=64, nc=3).to(DEVICE).apply(weights_init_D)\n",
    "mover = nn.Sequential(unet_h(source.event_shape, base_channels=48), nn.Tanh()).to(DEVICE)"
   ]
  },
  {
   "cell_type": "code",
   "execution_count": null,
   "metadata": {},
   "outputs": [],
   "source": [
    "run_experiment(\n",
    "    source, target, *copy_models(mover, critic),\n",
    "    cost=InnerGW(p, q, device=DEVICE),\n",
    "    plotter=PLOTTER,\n",
    "    logger=LOGGER,\n",
    "    fid_mu=fid_mu,\n",
    "    fid_sigma=fid_sigma,\n",
    "    source_eval=source_eval,\n",
    "    target_eval=target_eval,\n",
    "    **CONFIG\n",
    ")"
   ]
  },
  {
   "cell_type": "code",
   "execution_count": null,
   "metadata": {},
   "outputs": [
    {
     "data": {
      "application/vnd.jupyter.widget-view+json": {
       "model_id": "fa3f06267d0f4be993f1465c506625d8",
       "version_major": 2,
       "version_minor": 0
      },
      "text/plain": [
       "Epoch:   0%|          | 0/600 [00:00<?, ?it/s]"
      ]
     },
     "metadata": {},
     "output_type": "display_data"
    },
    {
     "data": {
      "application/vnd.jupyter.widget-view+json": {
       "model_id": "0f931be8b63b41b1af4705aa529c41b8",
       "version_major": 2,
       "version_minor": 0
      },
      "text/plain": [
       "Training:   0%|          | 0/250 [00:00<?, ?it/s]"
      ]
     },
     "metadata": {},
     "output_type": "display_data"
    },
    {
     "data": {
      "application/vnd.jupyter.widget-view+json": {
       "model_id": "6872ccc8df4146bdb01d2d045a61d3c5",
       "version_major": 2,
       "version_minor": 0
      },
      "text/plain": [
       "Validating:   0%|          | 0/250 [00:00<?, ?it/s]"
      ]
     },
     "metadata": {},
     "output_type": "display_data"
    },
    {
     "name": "stderr",
     "output_type": "stream",
     "text": [
      "\u001b[34m\u001b[1mwandb\u001b[0m: Currently logged in as: \u001b[33m_devourer_\u001b[0m. Use \u001b[1m`wandb login --relogin`\u001b[0m to force relogin\n"
     ]
    },
    {
     "data": {
      "text/html": [
       "wandb version 0.12.21 is available!  To upgrade, please run:\n",
       " $ pip install wandb --upgrade"
      ],
      "text/plain": [
       "<IPython.core.display.HTML object>"
      ]
     },
     "metadata": {},
     "output_type": "display_data"
    },
    {
     "data": {
      "text/html": [
       "Tracking run with wandb version 0.12.20"
      ],
      "text/plain": [
       "<IPython.core.display.HTML object>"
      ]
     },
     "metadata": {},
     "output_type": "display_data"
    },
    {
     "data": {
      "text/html": [
       "Run data is saved locally in <code>/home/mounted/optimal-transport-and-stuff/notebooks/wandb/run-20220708_135037-3789exrp</code>"
      ],
      "text/plain": [
       "<IPython.core.display.HTML object>"
      ]
     },
     "metadata": {},
     "output_type": "display_data"
    },
    {
     "data": {
      "text/html": [
       "Syncing run <strong><a href=\"https://wandb.ai/_devourer_/optimal-transport/runs/3789exrp\" target=\"_blank\">innerGW_conv/bags->shoes/64</a></strong> to <a href=\"https://wandb.ai/_devourer_/optimal-transport\" target=\"_blank\">Weights & Biases</a> (<a href=\"https://wandb.me/run\" target=\"_blank\">docs</a>)<br/>"
      ],
      "text/plain": [
       "<IPython.core.display.HTML object>"
      ]
     },
     "metadata": {},
     "output_type": "display_data"
    },
    {
     "data": {
      "application/vnd.jupyter.widget-view+json": {
       "model_id": "feca6edc3ac84fc29f848ff78fadabc3",
       "version_major": 2,
       "version_minor": 0
      },
      "text/plain": [
       "Output()"
      ]
     },
     "metadata": {},
     "output_type": "display_data"
    },
    {
     "name": "stderr",
     "output_type": "stream",
     "text": [
      "/opt/anaconda3/lib/python3.9/site-packages/torchvision/models/_utils.py:208: UserWarning: The parameter 'pretrained' is deprecated since 0.13 and will be removed in 0.15, please use 'weights' instead.\n",
      "  warnings.warn(\n",
      "/opt/anaconda3/lib/python3.9/site-packages/torchvision/models/_utils.py:223: UserWarning: Arguments other than a weight enum or `None` for 'weights' are deprecated since 0.13 and will be removed in 0.15. The current behavior is equivalent to passing `weights=None`.\n",
      "  warnings.warn(msg)\n"
     ]
    }
   ],
   "source": [
    "run_experiment(\n",
    "    source, target, *copy_models(mover, critic),\n",
    "    cost=InnerGW_conv(device=DEVICE),\n",
    "    name=\"innerGW_conv/bags->shoes/64\",\n",
    "    num_steps_cost=5,\n",
    "    plotter=PLOTTER,\n",
    "    logger=LOGGER,\n",
    "    source_eval=source_eval,\n",
    "    target_eval=target_eval,\n",
    "    fid_mu=fid_mu,\n",
    "    fid_sigma=fid_sigma,\n",
    "    **CONFIG\n",
    ")"
   ]
  },
  {
   "cell_type": "code",
   "execution_count": null,
   "metadata": {},
   "outputs": [],
   "source": []
  }
 ],
 "metadata": {
  "interpreter": {
   "hash": "40d3a090f54c6569ab1632332b64b2c03c39dcf918b08424e98f38b5ae0af88f"
  },
  "kernelspec": {
   "display_name": "Python 3 (ipykernel)",
   "language": "python",
   "name": "python3"
  },
  "language_info": {
   "codemirror_mode": {
    "name": "ipython",
    "version": 3
   },
   "file_extension": ".py",
   "mimetype": "text/x-python",
   "name": "python",
   "nbconvert_exporter": "python",
   "pygments_lexer": "ipython3",
   "version": "3.9.13"
  }
 },
 "nbformat": 4,
 "nbformat_minor": 2
}
