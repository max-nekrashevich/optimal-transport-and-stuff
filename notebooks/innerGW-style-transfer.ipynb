{
 "cells": [
  {
   "cell_type": "code",
   "execution_count": 1,
   "metadata": {},
   "outputs": [],
   "source": [
    "%load_ext autoreload\n",
    "%autoreload 2\n",
    "\n",
    "import sys\n",
    "sys.path.append(\"..\")"
   ]
  },
  {
   "cell_type": "code",
   "execution_count": 2,
   "metadata": {},
   "outputs": [],
   "source": [
    "from copy import deepcopy\n",
    "\n",
    "import numpy as np\n",
    "\n",
    "import torch\n",
    "import torch.nn as nn\n",
    "import torchvision.transforms as t\n",
    "\n",
    "from torchsummary import summary\n",
    "\n",
    "from src.distributions import *\n",
    "from src.loggers import TensorBoardLogger, WandbLogger\n",
    "from src.plotters import ImagePlotter\n",
    "from src.utils import *\n",
    "from src.costs import InnerGW_conv\n",
    "from src.models.resnet2 import ResNet_D, weights_init_D\n",
    "from src.models.unet import unet_h\n",
    "from src.train import train"
   ]
  },
  {
   "cell_type": "code",
   "execution_count": 11,
   "metadata": {},
   "outputs": [],
   "source": [
    "if torch.cuda.is_available():\n",
    "    torch.cuda.set_device(3)\n",
    "DEVICE = \"cuda\" if torch.cuda.is_available() else \"cpu\"\n",
    "\n",
    "tb_logger = TensorBoardLogger()\n",
    "wandb_logger = WandbLogger(project=\"optimal-transport\",\n",
    "                           group=\"style-transfer\",\n",
    "                           entity=\"_devourer_\")"
   ]
  },
  {
   "cell_type": "code",
   "execution_count": 4,
   "metadata": {},
   "outputs": [
    {
     "data": {
      "application/vnd.jupyter.widget-view+json": {
       "model_id": "38fa409b627c429bb105691501a76879",
       "version_major": 2,
       "version_minor": 0
      },
      "text/plain": [
       "  0%|          | 0/50025 [00:00<?, ?it/s]"
      ]
     },
     "metadata": {},
     "output_type": "display_data"
    },
    {
     "data": {
      "application/vnd.jupyter.widget-view+json": {
       "model_id": "f77aff5952e04dfe83626345e0fb9e1d",
       "version_major": 2,
       "version_minor": 0
      },
      "text/plain": [
       "  0%|          | 0/138767 [00:00<?, ?it/s]"
      ]
     },
     "metadata": {},
     "output_type": "display_data"
    }
   ],
   "source": [
    "shoes = load_h5py(\"../data/shoes_64.hdf5\",\n",
    "                  transform=t.Compose([t.ToTensor(), t.Resize(32)]))\n",
    "source = TensorDatasetDistribution(shoes, torch.zeros(shoes.size(0)), device=DEVICE)\n",
    "handbag = load_h5py(\"../data/handbag_64.hdf5\",\n",
    "                    transform=t.Compose([t.ToTensor(), t.Resize(32)]))\n",
    "target = TensorDatasetDistribution(handbag, torch.zeros(handbag.size(0)), device=DEVICE)"
   ]
  },
  {
   "cell_type": "code",
   "execution_count": 5,
   "metadata": {},
   "outputs": [
    {
     "name": "stdout",
     "output_type": "stream",
     "text": [
      "----------------------------------------------------------------\n",
      "        Layer (type)               Output Shape         Param #\n",
      "================================================================\n",
      "            Conv2d-1          [256, 64, 32, 32]           1,792\n",
      "         LeakyReLU-2          [256, 64, 32, 32]               0\n",
      "            Conv2d-3          [256, 64, 32, 32]          36,928\n",
      "         LeakyReLU-4          [256, 64, 32, 32]               0\n",
      "            Conv2d-5          [256, 64, 32, 32]          36,928\n",
      "         LeakyReLU-6          [256, 64, 32, 32]               0\n",
      "       ResNetBlock-7          [256, 64, 32, 32]               0\n",
      "            Conv2d-8         [256, 128, 32, 32]           8,192\n",
      "            Conv2d-9          [256, 64, 32, 32]          36,928\n",
      "        LeakyReLU-10          [256, 64, 32, 32]               0\n",
      "           Conv2d-11         [256, 128, 32, 32]          73,856\n",
      "        LeakyReLU-12         [256, 128, 32, 32]               0\n",
      "      ResNetBlock-13         [256, 128, 32, 32]               0\n",
      "        AvgPool2d-14         [256, 128, 16, 16]               0\n",
      "           Conv2d-15         [256, 128, 16, 16]         147,584\n",
      "        LeakyReLU-16         [256, 128, 16, 16]               0\n",
      "           Conv2d-17         [256, 128, 16, 16]         147,584\n",
      "        LeakyReLU-18         [256, 128, 16, 16]               0\n",
      "      ResNetBlock-19         [256, 128, 16, 16]               0\n",
      "           Conv2d-20         [256, 256, 16, 16]          32,768\n",
      "           Conv2d-21         [256, 128, 16, 16]         147,584\n",
      "        LeakyReLU-22         [256, 128, 16, 16]               0\n",
      "           Conv2d-23         [256, 256, 16, 16]         295,168\n",
      "        LeakyReLU-24         [256, 256, 16, 16]               0\n",
      "      ResNetBlock-25         [256, 256, 16, 16]               0\n",
      "        AvgPool2d-26           [256, 256, 8, 8]               0\n",
      "           Conv2d-27           [256, 256, 8, 8]         590,080\n",
      "        LeakyReLU-28           [256, 256, 8, 8]               0\n",
      "           Conv2d-29           [256, 256, 8, 8]         590,080\n",
      "        LeakyReLU-30           [256, 256, 8, 8]               0\n",
      "      ResNetBlock-31           [256, 256, 8, 8]               0\n",
      "           Conv2d-32           [256, 512, 8, 8]         131,072\n",
      "           Conv2d-33           [256, 256, 8, 8]         590,080\n",
      "        LeakyReLU-34           [256, 256, 8, 8]               0\n",
      "           Conv2d-35           [256, 512, 8, 8]       1,180,160\n",
      "        LeakyReLU-36           [256, 512, 8, 8]               0\n",
      "      ResNetBlock-37           [256, 512, 8, 8]               0\n",
      "        AvgPool2d-38           [256, 512, 4, 4]               0\n",
      "           Conv2d-39           [256, 512, 4, 4]       2,359,808\n",
      "        LeakyReLU-40           [256, 512, 4, 4]               0\n",
      "           Conv2d-41           [256, 512, 4, 4]       2,359,808\n",
      "        LeakyReLU-42           [256, 512, 4, 4]               0\n",
      "      ResNetBlock-43           [256, 512, 4, 4]               0\n",
      "           Conv2d-44           [256, 512, 4, 4]       2,359,808\n",
      "        LeakyReLU-45           [256, 512, 4, 4]               0\n",
      "           Conv2d-46           [256, 512, 4, 4]       2,359,808\n",
      "        LeakyReLU-47           [256, 512, 4, 4]               0\n",
      "      ResNetBlock-48           [256, 512, 4, 4]               0\n",
      "           Linear-49                   [256, 1]           8,193\n",
      "================================================================\n",
      "Total params: 13,494,209\n",
      "Trainable params: 13,494,209\n",
      "Non-trainable params: 0\n",
      "----------------------------------------------------------------\n",
      "Input size (MB): 3.00\n",
      "Forward/backward pass size (MB): 3888.00\n",
      "Params size (MB): 51.48\n",
      "Estimated Total Size (MB): 3942.48\n",
      "----------------------------------------------------------------\n"
     ]
    }
   ],
   "source": [
    "# critic = resnet18_d(target.event_shape).to(DEVICE)\n",
    "# summary(critic, target.event_shape, batch_size=512, device=DEVICE)\n",
    "\n",
    "critic = ResNet_D(size=32, nc=3).to(DEVICE).apply(weights_init_D)\n",
    "summary(critic, target.event_shape, batch_size=256)"
   ]
  },
  {
   "cell_type": "code",
   "execution_count": 8,
   "metadata": {},
   "outputs": [
    {
     "name": "stdout",
     "output_type": "stream",
     "text": [
      "----------------------------------------------------------------\n",
      "        Layer (type)               Output Shape         Param #\n",
      "================================================================\n",
      "            Conv2d-1          [512, 32, 32, 32]             864\n",
      "       BatchNorm2d-2          [512, 32, 32, 32]              64\n",
      "              ReLU-3          [512, 32, 32, 32]               0\n",
      "            Conv2d-4          [512, 32, 32, 32]           9,216\n",
      "       BatchNorm2d-5          [512, 32, 32, 32]              64\n",
      "              ReLU-6          [512, 32, 32, 32]               0\n",
      "        DoubleConv-7          [512, 32, 32, 32]               0\n",
      "         MaxPool2d-8          [512, 32, 16, 16]               0\n",
      "            Conv2d-9          [512, 64, 16, 16]          18,432\n",
      "      BatchNorm2d-10          [512, 64, 16, 16]             128\n",
      "             ReLU-11          [512, 64, 16, 16]               0\n",
      "           Conv2d-12          [512, 64, 16, 16]          36,864\n",
      "      BatchNorm2d-13          [512, 64, 16, 16]             128\n",
      "             ReLU-14          [512, 64, 16, 16]               0\n",
      "       DoubleConv-15          [512, 64, 16, 16]               0\n",
      "             Down-16          [512, 64, 16, 16]               0\n",
      "        MaxPool2d-17            [512, 64, 8, 8]               0\n",
      "           Conv2d-18           [512, 128, 8, 8]          73,728\n",
      "      BatchNorm2d-19           [512, 128, 8, 8]             256\n",
      "             ReLU-20           [512, 128, 8, 8]               0\n",
      "           Conv2d-21           [512, 128, 8, 8]         147,456\n",
      "      BatchNorm2d-22           [512, 128, 8, 8]             256\n",
      "             ReLU-23           [512, 128, 8, 8]               0\n",
      "       DoubleConv-24           [512, 128, 8, 8]               0\n",
      "             Down-25           [512, 128, 8, 8]               0\n",
      "        MaxPool2d-26           [512, 128, 4, 4]               0\n",
      "           Conv2d-27           [512, 256, 4, 4]         294,912\n",
      "      BatchNorm2d-28           [512, 256, 4, 4]             512\n",
      "             ReLU-29           [512, 256, 4, 4]               0\n",
      "           Conv2d-30           [512, 256, 4, 4]         589,824\n",
      "      BatchNorm2d-31           [512, 256, 4, 4]             512\n",
      "             ReLU-32           [512, 256, 4, 4]               0\n",
      "       DoubleConv-33           [512, 256, 4, 4]               0\n",
      "             Down-34           [512, 256, 4, 4]               0\n",
      "        MaxPool2d-35           [512, 256, 2, 2]               0\n",
      "           Conv2d-36           [512, 256, 2, 2]         589,824\n",
      "      BatchNorm2d-37           [512, 256, 2, 2]             512\n",
      "             ReLU-38           [512, 256, 2, 2]               0\n",
      "           Conv2d-39           [512, 256, 2, 2]         589,824\n",
      "      BatchNorm2d-40           [512, 256, 2, 2]             512\n",
      "             ReLU-41           [512, 256, 2, 2]               0\n",
      "       DoubleConv-42           [512, 256, 2, 2]               0\n",
      "             Down-43           [512, 256, 2, 2]               0\n",
      "         Upsample-44           [512, 256, 4, 4]               0\n",
      "           Conv2d-45           [512, 256, 4, 4]       1,179,648\n",
      "      BatchNorm2d-46           [512, 256, 4, 4]             512\n",
      "             ReLU-47           [512, 256, 4, 4]               0\n",
      "           Conv2d-48           [512, 128, 4, 4]         294,912\n",
      "      BatchNorm2d-49           [512, 128, 4, 4]             256\n",
      "             ReLU-50           [512, 128, 4, 4]               0\n",
      "       DoubleConv-51           [512, 128, 4, 4]               0\n",
      "               Up-52           [512, 128, 4, 4]               0\n",
      "         Upsample-53           [512, 128, 8, 8]               0\n",
      "           Conv2d-54           [512, 128, 8, 8]         294,912\n",
      "      BatchNorm2d-55           [512, 128, 8, 8]             256\n",
      "             ReLU-56           [512, 128, 8, 8]               0\n",
      "           Conv2d-57            [512, 64, 8, 8]          73,728\n",
      "      BatchNorm2d-58            [512, 64, 8, 8]             128\n",
      "             ReLU-59            [512, 64, 8, 8]               0\n",
      "       DoubleConv-60            [512, 64, 8, 8]               0\n",
      "               Up-61            [512, 64, 8, 8]               0\n",
      "         Upsample-62          [512, 64, 16, 16]               0\n",
      "           Conv2d-63          [512, 64, 16, 16]          73,728\n",
      "      BatchNorm2d-64          [512, 64, 16, 16]             128\n",
      "             ReLU-65          [512, 64, 16, 16]               0\n",
      "           Conv2d-66          [512, 32, 16, 16]          18,432\n",
      "      BatchNorm2d-67          [512, 32, 16, 16]              64\n",
      "             ReLU-68          [512, 32, 16, 16]               0\n",
      "       DoubleConv-69          [512, 32, 16, 16]               0\n",
      "               Up-70          [512, 32, 16, 16]               0\n",
      "         Upsample-71          [512, 32, 32, 32]               0\n",
      "           Conv2d-72          [512, 32, 32, 32]          18,432\n",
      "      BatchNorm2d-73          [512, 32, 32, 32]              64\n",
      "             ReLU-74          [512, 32, 32, 32]               0\n",
      "           Conv2d-75          [512, 32, 32, 32]           9,216\n",
      "      BatchNorm2d-76          [512, 32, 32, 32]              64\n",
      "             ReLU-77          [512, 32, 32, 32]               0\n",
      "       DoubleConv-78          [512, 32, 32, 32]               0\n",
      "               Up-79          [512, 32, 32, 32]               0\n",
      "           Conv2d-80           [512, 3, 32, 32]              99\n",
      "             UNet-81           [512, 3, 32, 32]               0\n",
      "          Sigmoid-82           [512, 3, 32, 32]               0\n",
      "================================================================\n",
      "Total params: 4,318,467\n",
      "Trainable params: 4,318,467\n",
      "Non-trainable params: 0\n",
      "----------------------------------------------------------------\n",
      "Input size (MB): 6.00\n",
      "Forward/backward pass size (MB): 3800.00\n",
      "Params size (MB): 16.47\n",
      "Estimated Total Size (MB): 3822.47\n",
      "----------------------------------------------------------------\n"
     ]
    }
   ],
   "source": [
    "mover = nn.Sequential(unet_h(source.event_shape, base_channels=32), nn.Sigmoid()).to(DEVICE)\n",
    "summary(mover, source.event_shape, batch_size=512, device=DEVICE)"
   ]
  },
  {
   "cell_type": "code",
   "execution_count": 14,
   "metadata": {},
   "outputs": [],
   "source": [
    "def run_experiment(source, target, mover, critic, cost, n_iter, *,\n",
    "                   logger=None, **kwargs):\n",
    "    if logger: \n",
    "        logger.start()\n",
    "        logger.log_hparams(kwargs)\n",
    "    try:\n",
    "        train(source, target, mover, critic, cost,\n",
    "              n_iter=n_iter,\n",
    "              logger=logger,\n",
    "              **kwargs)\n",
    "    except KeyboardInterrupt:\n",
    "        pass\n",
    "    finally:\n",
    "        if logger: logger.finish()"
   ]
  },
  {
   "cell_type": "code",
   "execution_count": null,
   "metadata": {},
   "outputs": [
    {
     "data": {
      "text/html": [
       "Tracking run with wandb version 0.12.11"
      ],
      "text/plain": [
       "<IPython.core.display.HTML object>"
      ]
     },
     "metadata": {},
     "output_type": "display_data"
    },
    {
     "data": {
      "text/html": [
       "Run data is saved locally in <code>/home/mounted/optimal-transport-and-stuff/notebooks/wandb/run-20220403_194634-37d7urh3</code>"
      ],
      "text/plain": [
       "<IPython.core.display.HTML object>"
      ]
     },
     "metadata": {},
     "output_type": "display_data"
    },
    {
     "data": {
      "text/html": [
       "Syncing run <strong><a href=\"https://wandb.ai/_devourer_/optimal-transport/runs/37d7urh3\" target=\"_blank\">lemon-serenity-139</a></strong> to <a href=\"https://wandb.ai/_devourer_/optimal-transport\" target=\"_blank\">Weights & Biases</a> (<a href=\"https://wandb.me/run\" target=\"_blank\">docs</a>)<br/>"
      ],
      "text/plain": [
       "<IPython.core.display.HTML object>"
      ]
     },
     "metadata": {},
     "output_type": "display_data"
    },
    {
     "data": {
      "application/vnd.jupyter.widget-view+json": {
       "model_id": "84b1707ec8704eebb315deda132e8fea",
       "version_major": 2,
       "version_minor": 0
      },
      "text/plain": [
       "Output()"
      ]
     },
     "metadata": {},
     "output_type": "display_data"
    },
    {
     "data": {
      "application/vnd.jupyter.widget-view+json": {
       "model_id": "7ecdc20efc8b4ea5a284325624c394f2",
       "version_major": 2,
       "version_minor": 0
      },
      "text/plain": [
       "  0%|          | 0/10000 [00:00<?, ?it/s]"
      ]
     },
     "metadata": {},
     "output_type": "display_data"
    }
   ],
   "source": [
    "run_experiment(\n",
    "    source, target, *copy_models(mover, critic),\n",
    "    n_iter=10000,\n",
    "    n_samples=64,\n",
    "    cost=InnerGW_conv(\n",
    "        optimizer_params=dict(lr=2e-4, weight_decay=1e-10),\n",
    "        device=DEVICE\n",
    "    ),\n",
    "    plotter=ImagePlotter(plot_interval=100, n_images=20, n_samples=2, plot_source=False),\n",
    "    logger=wandb_logger,\n",
    "    optimizer_params=dict(lr=2e-4, weight_decay=1e-10),\n",
    ")"
   ]
  },
  {
   "cell_type": "code",
   "execution_count": null,
   "metadata": {},
   "outputs": [],
   "source": []
  }
 ],
 "metadata": {
  "interpreter": {
   "hash": "ff4d7889a3e633245f6f5289845f79fcb0cbba3c688731bf4887729c825c107a"
  },
  "kernelspec": {
   "display_name": "Python 3 (ipykernel)",
   "language": "python",
   "name": "python3"
  },
  "language_info": {
   "codemirror_mode": {
    "name": "ipython",
    "version": 3
   },
   "file_extension": ".py",
   "mimetype": "text/x-python",
   "name": "python",
   "nbconvert_exporter": "python",
   "pygments_lexer": "ipython3",
   "version": "3.8.5"
  }
 },
 "nbformat": 4,
 "nbformat_minor": 2
}
