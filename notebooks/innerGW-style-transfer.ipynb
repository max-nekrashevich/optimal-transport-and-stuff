{
 "cells": [
  {
   "cell_type": "code",
   "execution_count": 1,
   "metadata": {},
   "outputs": [],
   "source": [
    "%load_ext autoreload\n",
    "%autoreload 2\n",
    "\n",
    "import sys\n",
    "sys.path.append(\"..\")"
   ]
  },
  {
   "cell_type": "code",
   "execution_count": 2,
   "metadata": {},
   "outputs": [],
   "source": [
    "import numpy as np\n",
    "import torch\n",
    "from torchvision import transforms as t, datasets as d\n",
    "\n",
    "from src.costs import *\n",
    "from src.distributions import *\n",
    "from src.loggers import WandbLogger\n",
    "from src.models.unet import unet_h\n",
    "from src.plotters import ImagePlotter\n",
    "from src.train import run_experiment\n",
    "from src.utils import *\n",
    "from src.models.resnet2 import ResNet_D, weights_init_D\n",
    "import torch.optim as o\n",
    "import torch.optim.lr_scheduler as lr"
   ]
  },
  {
   "cell_type": "code",
   "execution_count": 3,
   "metadata": {},
   "outputs": [],
   "source": [
    "np.random.seed(0);\n",
    "torch.manual_seed(0);"
   ]
  },
  {
   "cell_type": "code",
   "execution_count": 4,
   "metadata": {},
   "outputs": [
    {
     "name": "stdout",
     "output_type": "stream",
     "text": [
      "cuda\n"
     ]
    }
   ],
   "source": [
    "LOGGER = WandbLogger(\n",
    "    project=\"optimal-transport\",\n",
    "    entity=\"_devourer_\",\n",
    "    group=\"style-transfer\",\n",
    "    # mode=\"offline\",\n",
    ")\n",
    "\n",
    "PLOTTER = ImagePlotter(n_images=5,\n",
    "                       n_samples=5,\n",
    "                       plot_source=True)\n",
    "\n",
    "CONFIG = dict(\n",
    "    num_epochs=1000,\n",
    "    num_samples=64,\n",
    "    optimizer_params=dict(\n",
    "        lr=2e-5\n",
    "    ),\n",
    "    # scheduler_params=dict(\n",
    "    #     type=lr.CyclicLR,\n",
    "    #     params=dict(\n",
    "    #         base_lr=1e-4,\n",
    "    #         max_lr=1e-2,\n",
    "    #         mode=\"triangular\"\n",
    "    #     )\n",
    "    # ),\n",
    ")\n",
    "\n",
    "TRANSFORM = t.Compose([t.ToTensor(), t.Resize(32)])\n",
    "\n",
    "DEVICE = torch.device(\"cpu\")\n",
    "\n",
    "if torch.cuda.is_available():\n",
    "    torch.cuda.set_device(2)\n",
    "    DEVICE = torch.device(\"cuda\")\n",
    "print(DEVICE)"
   ]
  },
  {
   "cell_type": "code",
   "execution_count": 6,
   "metadata": {},
   "outputs": [
    {
     "data": {
      "application/vnd.jupyter.widget-view+json": {
       "model_id": "8439a19039c24a12aa7a69d217bc2bf7",
       "version_major": 2,
       "version_minor": 0
      },
      "text/plain": [
       "  0%|          | 0/60000 [00:00<?, ?it/s]"
      ]
     },
     "metadata": {},
     "output_type": "display_data"
    },
    {
     "data": {
      "application/vnd.jupyter.widget-view+json": {
       "model_id": "c1cd9cafe7344f02a9b37e52bbacc57a",
       "version_major": 2,
       "version_minor": 0
      },
      "text/plain": [
       "  0%|          | 0/60000 [00:00<?, ?it/s]"
      ]
     },
     "metadata": {},
     "output_type": "display_data"
    }
   ],
   "source": [
    "features, classes = load_dataset(d.FashionMNIST, root=\"../data/\",\n",
    "                                 transform=TRANSFORM)\n",
    "source = TensorDatasetDistribution(features, classes, device=DEVICE)\n",
    "\n",
    "features, classes = load_dataset(d.MNIST, root=\"../data/\",\n",
    "                                 transform=TRANSFORM)\n",
    "target = TensorDatasetDistribution(features, classes, device=DEVICE)\n",
    "\n",
    "p, q = source.event_shape, target.event_shape"
   ]
  },
  {
   "cell_type": "code",
   "execution_count": 7,
   "metadata": {},
   "outputs": [],
   "source": [
    "critic = ResNet_D(size=32, nc=1).to(DEVICE).apply(weights_init_D)\n",
    "mover = nn.Sequential(unet_h(source.event_shape, base_channels=48), nn.Tanh()).to(DEVICE)"
   ]
  },
  {
   "cell_type": "code",
   "execution_count": 15,
   "metadata": {},
   "outputs": [],
   "source": [
    "run_experiment(\n",
    "    source, target, *copy_models(mover, critic),\n",
    "    cost=InnerGW(p, q, device=DEVICE),\n",
    "    plotter=PLOTTER,\n",
    "    logger=LOGGER,\n",
    "    use_fid=False,\n",
    "    **CONFIG\n",
    ")"
   ]
  },
  {
   "cell_type": "code",
   "execution_count": null,
   "metadata": {},
   "outputs": [],
   "source": [
    "run_experiment(\n",
    "    source, target, *copy_models(mover, critic),\n",
    "    cost=InnerGW_conv(device=DEVICE),\n",
    "    num_steps_cost=5,\n",
    "    plotter=PLOTTER,\n",
    "    logger=LOGGER,\n",
    "    use_fid=False,\n",
    "    **CONFIG\n",
    ")"
   ]
  },
  {
   "cell_type": "code",
   "execution_count": 5,
   "metadata": {},
   "outputs": [
    {
     "data": {
      "application/vnd.jupyter.widget-view+json": {
       "model_id": "58832199b7664de9b4f6aefd1d19fc08",
       "version_major": 2,
       "version_minor": 0
      },
      "text/plain": [
       "  0%|          | 0/138767 [00:00<?, ?it/s]"
      ]
     },
     "metadata": {},
     "output_type": "display_data"
    },
    {
     "data": {
      "application/vnd.jupyter.widget-view+json": {
       "model_id": "e2fa769ffdf54fe5895ff62f9cf6860a",
       "version_major": 2,
       "version_minor": 0
      },
      "text/plain": [
       "  0%|          | 0/50025 [00:00<?, ?it/s]"
      ]
     },
     "metadata": {},
     "output_type": "display_data"
    },
    {
     "name": "stderr",
     "output_type": "stream",
     "text": [
      "/opt/anaconda3/lib/python3.9/site-packages/torchvision/models/_utils.py:208: UserWarning: The parameter 'pretrained' is deprecated since 0.13 and will be removed in 0.15, please use 'weights' instead.\n",
      "  warnings.warn(\n",
      "/opt/anaconda3/lib/python3.9/site-packages/torchvision/models/_utils.py:223: UserWarning: Arguments other than a weight enum or `None` for 'weights' are deprecated since 0.13 and will be removed in 0.15. The current behavior is equivalent to passing `weights=None`.\n",
      "  warnings.warn(msg)\n"
     ]
    },
    {
     "data": {
      "application/vnd.jupyter.widget-view+json": {
       "model_id": "f515b285cdad478cb864dab8fb66296e",
       "version_major": 2,
       "version_minor": 0
      },
      "text/plain": [
       "  0%|          | 0/391 [00:00<?, ?it/s]"
      ]
     },
     "metadata": {},
     "output_type": "display_data"
    }
   ],
   "source": [
    "handbags = load_h5py(\"../data/handbag_64.hdf5\", transform=TRANSFORM)\n",
    "shoes = load_h5py(\"../data/shoes_64.hdf5\", transform=TRANSFORM)\n",
    "\n",
    "source = TensorDatasetDistribution(handbags, torch.zeros(handbags.size(0)),\n",
    "                                   device=DEVICE)\n",
    "target = TensorDatasetDistribution(shoes, torch.zeros(shoes.size(0)),\n",
    "                                   device=DEVICE)\n",
    "fid_mu, fid_sigma = get_inception_statistics(target.features, 128, verbose=True)\n",
    "\n",
    "p, q = source.event_shape, target.event_shape"
   ]
  },
  {
   "cell_type": "code",
   "execution_count": 6,
   "metadata": {},
   "outputs": [],
   "source": [
    "critic = ResNet_D(size=32, nc=3).to(DEVICE).apply(weights_init_D)\n",
    "mover = nn.Sequential(unet_h(source.event_shape, base_channels=48), nn.Tanh()).to(DEVICE)"
   ]
  },
  {
   "cell_type": "code",
   "execution_count": 12,
   "metadata": {},
   "outputs": [
    {
     "data": {
      "application/vnd.jupyter.widget-view+json": {
       "model_id": "1cac944979684701a318e4fa6ba1041c",
       "version_major": 2,
       "version_minor": 0
      },
      "text/plain": [
       "Epoch:   0%|          | 0/1000 [00:00<?, ?it/s]"
      ]
     },
     "metadata": {},
     "output_type": "display_data"
    },
    {
     "data": {
      "application/vnd.jupyter.widget-view+json": {
       "model_id": "98aee99bff274370a84dbbe0d96a3390",
       "version_major": 2,
       "version_minor": 0
      },
      "text/plain": [
       "Training:   0%|          | 0/50 [00:00<?, ?it/s]"
      ]
     },
     "metadata": {},
     "output_type": "display_data"
    },
    {
     "data": {
      "application/vnd.jupyter.widget-view+json": {
       "model_id": "e07adbeef9564dcb833dd7e584c0ec28",
       "version_major": 2,
       "version_minor": 0
      },
      "text/plain": [
       "Validating:   0%|          | 0/50 [00:00<?, ?it/s]"
      ]
     },
     "metadata": {},
     "output_type": "display_data"
    },
    {
     "name": "stderr",
     "output_type": "stream",
     "text": [
      "\u001b[34m\u001b[1mwandb\u001b[0m: Currently logged in as: \u001b[33m_devourer_\u001b[0m. Use \u001b[1m`wandb login --relogin`\u001b[0m to force relogin\n"
     ]
    },
    {
     "data": {
      "text/html": [
       "Tracking run with wandb version 0.12.20"
      ],
      "text/plain": [
       "<IPython.core.display.HTML object>"
      ]
     },
     "metadata": {},
     "output_type": "display_data"
    },
    {
     "data": {
      "text/html": [
       "Run data is saved locally in <code>/home/mounted/optimal-transport-and-stuff/notebooks/wandb/run-20220630_211957-3sreddpe</code>"
      ],
      "text/plain": [
       "<IPython.core.display.HTML object>"
      ]
     },
     "metadata": {},
     "output_type": "display_data"
    },
    {
     "data": {
      "text/html": [
       "Syncing run <strong><a href=\"https://wandb.ai/_devourer_/optimal-transport/runs/3sreddpe\" target=\"_blank\">splendid-fire-191</a></strong> to <a href=\"https://wandb.ai/_devourer_/optimal-transport\" target=\"_blank\">Weights & Biases</a> (<a href=\"https://wandb.me/run\" target=\"_blank\">docs</a>)<br/>"
      ],
      "text/plain": [
       "<IPython.core.display.HTML object>"
      ]
     },
     "metadata": {},
     "output_type": "display_data"
    },
    {
     "data": {
      "application/vnd.jupyter.widget-view+json": {
       "model_id": "9188641084e4486e93509f7a9ff5b12b",
       "version_major": 2,
       "version_minor": 0
      },
      "text/plain": [
       "Output()"
      ]
     },
     "metadata": {},
     "output_type": "display_data"
    },
    {
     "name": "stderr",
     "output_type": "stream",
     "text": [
      "/opt/anaconda3/lib/python3.9/site-packages/torchvision/models/_utils.py:208: UserWarning: The parameter 'pretrained' is deprecated since 0.13 and will be removed in 0.15, please use 'weights' instead.\n",
      "  warnings.warn(\n",
      "/opt/anaconda3/lib/python3.9/site-packages/torchvision/models/_utils.py:223: UserWarning: Arguments other than a weight enum or `None` for 'weights' are deprecated since 0.13 and will be removed in 0.15. The current behavior is equivalent to passing `weights=None`.\n",
      "  warnings.warn(msg)\n"
     ]
    },
    {
     "data": {
      "text/html": [
       "Waiting for W&B process to finish... <strong style=\"color:green\">(success).</strong>"
      ],
      "text/plain": [
       "<IPython.core.display.HTML object>"
      ]
     },
     "metadata": {},
     "output_type": "display_data"
    },
    {
     "data": {
      "application/vnd.jupyter.widget-view+json": {
       "model_id": "08db2230db704abb9ac838cc61e848a1",
       "version_major": 2,
       "version_minor": 0
      },
      "text/plain": [
       "VBox(children=(Label(value='0.481 MB of 0.481 MB uploaded (0.000 MB deduped)\\r'), FloatProgress(value=1.0, max…"
      ]
     },
     "metadata": {},
     "output_type": "display_data"
    },
    {
     "data": {
      "text/html": [
       "<style>\n",
       "    table.wandb td:nth-child(1) { padding: 0 10px; text-align: left ; width: auto;} td:nth-child(2) {text-align: left ; width: 100%}\n",
       "    .wandb-row { display: flex; flex-direction: row; flex-wrap: wrap; justify-content: flex-start; width: 100% }\n",
       "    .wandb-col { display: flex; flex-direction: column; flex-basis: 100%; flex: 1; padding: 10px; }\n",
       "    </style>\n",
       "<div class=\"wandb-row\"><div class=\"wandb-col\"><h3>Run history:</h3><br/><table class=\"wandb\"><tr><td>FID</td><td>▁▅▄█▇▆▅▅</td></tr><tr><td>GW</td><td>█▂▁▂▃▃▂▃</td></tr><tr><td>epoch</td><td>▁▁▂▂▃▃▄▄▅▅▅▅▆▆▇▇█</td></tr><tr><td>train/cost</td><td>█▅▅▄▄▄▄▄▄▃▃▂▂▂▂▂▃▂▂▂▂▂▁▂▁▁▂▁▁▁▁▁▁▁▁▂▂▁▁▁</td></tr><tr><td>train/critic(h_x)</td><td>▁▁▁▁▁▁▁▁▂▂▃▃▄▅███▆▅▆▄▂▅▂▅▂▄▂▂▂▁▂▂▁▁▁▁▁▁▂</td></tr><tr><td>train/critic(y)</td><td>▁▁▁▁▁▁▁▁▂▂▃▃▄▆███▆▅▆▄▂▅▁▅▁▄▂▂▂▁▂▂▁▁▁▁▁▁▂</td></tr><tr><td>train/loss</td><td>▄▄▄▄▄▄▄▅▅▆▆▆██▆▆▃▅▄▄▄▄▂▂▂▂▁▃▃▃▄▄▃▃▄▄▄▄▄▄</td></tr><tr><td>train/step</td><td>▁▁▁▂▂▂▂▂▂▃▃▃▃▃▃▄▄▄▄▄▅▅▅▅▅▅▆▆▆▆▆▇▇▇▇▇▇███</td></tr></table><br/></div><div class=\"wandb-col\"><h3>Run summary:</h3><br/><table class=\"wandb\"><tr><td>FID</td><td>36.80211</td></tr><tr><td>GW</td><td>310276.75188</td></tr><tr><td>epoch</td><td>8</td></tr><tr><td>train/cost</td><td>0.00624</td></tr><tr><td>train/critic(h_x)</td><td>12.36443</td></tr><tr><td>train/critic(y)</td><td>12.56699</td></tr><tr><td>train/loss</td><td>0.20879</td></tr><tr><td>train/step</td><td>446</td></tr></table><br/></div></div>"
      ],
      "text/plain": [
       "<IPython.core.display.HTML object>"
      ]
     },
     "metadata": {},
     "output_type": "display_data"
    },
    {
     "data": {
      "text/html": [
       "Synced <strong style=\"color:#cdcd00\">splendid-fire-191</strong>: <a href=\"https://wandb.ai/_devourer_/optimal-transport/runs/3sreddpe\" target=\"_blank\">https://wandb.ai/_devourer_/optimal-transport/runs/3sreddpe</a><br/>Synced 6 W&B file(s), 16 media file(s), 0 artifact file(s) and 0 other file(s)"
      ],
      "text/plain": [
       "<IPython.core.display.HTML object>"
      ]
     },
     "metadata": {},
     "output_type": "display_data"
    },
    {
     "data": {
      "text/html": [
       "Find logs at: <code>./wandb/run-20220630_211957-3sreddpe/logs</code>"
      ],
      "text/plain": [
       "<IPython.core.display.HTML object>"
      ]
     },
     "metadata": {},
     "output_type": "display_data"
    }
   ],
   "source": [
    "run_experiment(\n",
    "    source, target, *copy_models(mover, critic),\n",
    "    cost=InnerGW(p, q, device=DEVICE),\n",
    "    plotter=PLOTTER,\n",
    "    logger=LOGGER,\n",
    "    fid_mu=fid_mu,\n",
    "    fid_sigma=fid_sigma,\n",
    "    **CONFIG\n",
    ")"
   ]
  },
  {
   "cell_type": "code",
   "execution_count": 11,
   "metadata": {},
   "outputs": [
    {
     "data": {
      "application/vnd.jupyter.widget-view+json": {
       "model_id": "f11517bb6409471da16d747f4ab8b512",
       "version_major": 2,
       "version_minor": 0
      },
      "text/plain": [
       "Epoch:   0%|          | 0/1000 [00:00<?, ?it/s]"
      ]
     },
     "metadata": {},
     "output_type": "display_data"
    },
    {
     "data": {
      "application/vnd.jupyter.widget-view+json": {
       "model_id": "0157874876c34f528b1a3a1d4822159d",
       "version_major": 2,
       "version_minor": 0
      },
      "text/plain": [
       "Training:   0%|          | 0/50 [00:00<?, ?it/s]"
      ]
     },
     "metadata": {},
     "output_type": "display_data"
    },
    {
     "data": {
      "application/vnd.jupyter.widget-view+json": {
       "model_id": "bbfb48e3c75f45a98dbf6388c6714331",
       "version_major": 2,
       "version_minor": 0
      },
      "text/plain": [
       "Validating:   0%|          | 0/50 [00:00<?, ?it/s]"
      ]
     },
     "metadata": {},
     "output_type": "display_data"
    },
    {
     "name": "stderr",
     "output_type": "stream",
     "text": [
      "\u001b[34m\u001b[1mwandb\u001b[0m: Logging into wandb.ai. (Learn how to deploy a W&B server locally: https://wandb.me/wandb-server)\n",
      "\u001b[34m\u001b[1mwandb\u001b[0m: You can find your API key in your browser here: https://wandb.ai/authorize\n",
      "\u001b[34m\u001b[1mwandb\u001b[0m: Appending key for api.wandb.ai to your netrc file: /root/.netrc\n"
     ]
    },
    {
     "data": {
      "text/html": [
       "Tracking run with wandb version 0.12.20"
      ],
      "text/plain": [
       "<IPython.core.display.HTML object>"
      ]
     },
     "metadata": {},
     "output_type": "display_data"
    },
    {
     "data": {
      "text/html": [
       "Run data is saved locally in <code>/home/mounted/optimal-transport-and-stuff/notebooks/wandb/run-20220630_211334-2t2awklk</code>"
      ],
      "text/plain": [
       "<IPython.core.display.HTML object>"
      ]
     },
     "metadata": {},
     "output_type": "display_data"
    },
    {
     "data": {
      "text/html": [
       "Syncing run <strong><a href=\"https://wandb.ai/_devourer_/optimal-transport/runs/2t2awklk\" target=\"_blank\">firm-yogurt-190</a></strong> to <a href=\"https://wandb.ai/_devourer_/optimal-transport\" target=\"_blank\">Weights & Biases</a> (<a href=\"https://wandb.me/run\" target=\"_blank\">docs</a>)<br/>"
      ],
      "text/plain": [
       "<IPython.core.display.HTML object>"
      ]
     },
     "metadata": {},
     "output_type": "display_data"
    },
    {
     "data": {
      "application/vnd.jupyter.widget-view+json": {
       "model_id": "a6dd6e697d6f4987b69d1e71f55381fa",
       "version_major": 2,
       "version_minor": 0
      },
      "text/plain": [
       "Output()"
      ]
     },
     "metadata": {},
     "output_type": "display_data"
    },
    {
     "name": "stderr",
     "output_type": "stream",
     "text": [
      "/opt/anaconda3/lib/python3.9/site-packages/torchvision/models/_utils.py:208: UserWarning: The parameter 'pretrained' is deprecated since 0.13 and will be removed in 0.15, please use 'weights' instead.\n",
      "  warnings.warn(\n",
      "/opt/anaconda3/lib/python3.9/site-packages/torchvision/models/_utils.py:223: UserWarning: Arguments other than a weight enum or `None` for 'weights' are deprecated since 0.13 and will be removed in 0.15. The current behavior is equivalent to passing `weights=None`.\n",
      "  warnings.warn(msg)\n"
     ]
    },
    {
     "data": {
      "text/html": [
       "Waiting for W&B process to finish... <strong style=\"color:green\">(success).</strong>"
      ],
      "text/plain": [
       "<IPython.core.display.HTML object>"
      ]
     },
     "metadata": {},
     "output_type": "display_data"
    },
    {
     "data": {
      "application/vnd.jupyter.widget-view+json": {
       "model_id": "06364407ee6a40b5b6db7546852bd58f",
       "version_major": 2,
       "version_minor": 0
      },
      "text/plain": [
       "VBox(children=(Label(value='0.300 MB of 0.300 MB uploaded (0.000 MB deduped)\\r'), FloatProgress(value=1.0, max…"
      ]
     },
     "metadata": {},
     "output_type": "display_data"
    },
    {
     "data": {
      "text/html": [
       "<style>\n",
       "    table.wandb td:nth-child(1) { padding: 0 10px; text-align: left ; width: auto;} td:nth-child(2) {text-align: left ; width: 100%}\n",
       "    .wandb-row { display: flex; flex-direction: row; flex-wrap: wrap; justify-content: flex-start; width: 100% }\n",
       "    .wandb-col { display: flex; flex-direction: column; flex-basis: 100%; flex: 1; padding: 10px; }\n",
       "    </style>\n",
       "<div class=\"wandb-row\"><div class=\"wandb-col\"><h3>Run history:</h3><br/><table class=\"wandb\"><tr><td>FID</td><td>▁▄▅█▇</td></tr><tr><td>GW</td><td>█▂▁▂▂</td></tr><tr><td>train/cost</td><td>▇▅█▆▆▄▃▂▂▃▃▄▅▄▄▃▃▄▃▃▃▂▂▂▃▂▁▃▁▂▂▁▂▂▃▃▂▂▃▁</td></tr><tr><td>train/critic(h_x)</td><td>▁▁▁▁▁▁▁▁▁▁▁▁▁▁▂▂▂▂▃▃▄▆▆████▇▆▆▅▅▄▄▄▃▃▃▂▃</td></tr><tr><td>train/critic(y)</td><td>▁▁▁▁▁▁▁▁▁▁▁▁▁▁▂▂▂▂▃▄▄▆▆████▇▆▆▅▅▄▄▄▃▃▃▂▃</td></tr><tr><td>train/loss</td><td>▄▄▄▄▄▄▄▄▄▄▄▄▅▅▅▅▆▆███▇▆▄▁▃▅▅▄▄▄▃▃▄▄▄▄▄▄▃</td></tr><tr><td>train/step</td><td>▁▁▁▂▂▂▂▂▂▃▃▃▃▃▃▄▄▄▄▄▅▅▅▅▅▅▆▆▆▆▆▆▇▇▇▇▇███</td></tr></table><br/></div><div class=\"wandb-col\"><h3>Run summary:</h3><br/><table class=\"wandb\"><tr><td>FID</td><td>42.17827</td></tr><tr><td>GW</td><td>192904.62063</td></tr><tr><td>train/cost</td><td>0.00578</td></tr><tr><td>train/critic(h_x)</td><td>45.73952</td></tr><tr><td>train/critic(y)</td><td>45.42585</td></tr><tr><td>train/loss</td><td>-0.3079</td></tr><tr><td>train/step</td><td>263</td></tr></table><br/></div></div>"
      ],
      "text/plain": [
       "<IPython.core.display.HTML object>"
      ]
     },
     "metadata": {},
     "output_type": "display_data"
    },
    {
     "data": {
      "text/html": [
       "Synced <strong style=\"color:#cdcd00\">firm-yogurt-190</strong>: <a href=\"https://wandb.ai/_devourer_/optimal-transport/runs/2t2awklk\" target=\"_blank\">https://wandb.ai/_devourer_/optimal-transport/runs/2t2awklk</a><br/>Synced 6 W&B file(s), 10 media file(s), 0 artifact file(s) and 0 other file(s)"
      ],
      "text/plain": [
       "<IPython.core.display.HTML object>"
      ]
     },
     "metadata": {},
     "output_type": "display_data"
    },
    {
     "data": {
      "text/html": [
       "Find logs at: <code>./wandb/run-20220630_211334-2t2awklk/logs</code>"
      ],
      "text/plain": [
       "<IPython.core.display.HTML object>"
      ]
     },
     "metadata": {},
     "output_type": "display_data"
    }
   ],
   "source": [
    "run_experiment(\n",
    "    source, target, *copy_models(mover, critic),\n",
    "    cost=InnerGW_conv(device=DEVICE),\n",
    "    num_steps_cost=5,\n",
    "    plotter=PLOTTER,\n",
    "    logger=LOGGER,\n",
    "    fid_mu=fid_mu,\n",
    "    fid_sigma=fid_sigma,\n",
    "    **CONFIG\n",
    ")"
   ]
  },
  {
   "cell_type": "code",
   "execution_count": null,
   "metadata": {},
   "outputs": [],
   "source": []
  }
 ],
 "metadata": {
  "interpreter": {
   "hash": "40d3a090f54c6569ab1632332b64b2c03c39dcf918b08424e98f38b5ae0af88f"
  },
  "kernelspec": {
   "display_name": "Python 3 (ipykernel)",
   "language": "python",
   "name": "python3"
  },
  "language_info": {
   "codemirror_mode": {
    "name": "ipython",
    "version": 3
   },
   "file_extension": ".py",
   "mimetype": "text/x-python",
   "name": "python",
   "nbconvert_exporter": "python",
   "pygments_lexer": "ipython3",
   "version": "3.9.13"
  }
 },
 "nbformat": 4,
 "nbformat_minor": 2
}
