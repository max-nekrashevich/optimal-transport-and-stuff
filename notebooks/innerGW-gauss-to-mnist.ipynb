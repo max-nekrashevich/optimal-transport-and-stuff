{
 "cells": [
  {
   "cell_type": "code",
   "execution_count": 44,
   "metadata": {},
   "outputs": [
    {
     "name": "stdout",
     "output_type": "stream",
     "text": [
      "The autoreload extension is already loaded. To reload it, use:\n",
      "  %reload_ext autoreload\n"
     ]
    }
   ],
   "source": [
    "%load_ext autoreload\n",
    "%autoreload 2\n",
    "\n",
    "import sys\n",
    "sys.path.append(\"..\")"
   ]
  },
  {
   "cell_type": "code",
   "execution_count": 76,
   "metadata": {},
   "outputs": [],
   "source": [
    "from copy import deepcopy\n",
    "\n",
    "import numpy as np\n",
    "\n",
    "import torch\n",
    "import torch.nn as nn\n",
    "import torch.optim as o\n",
    "import torchvision.transforms as t\n",
    "\n",
    "from torchsummary import summary\n",
    "\n",
    "from src.distributions import *\n",
    "from src.loggers import TensorBoardLogger, WandbLogger\n",
    "from src.plotters import ImagePlotter\n",
    "from src.utils import *\n",
    "from src.costs import *\n",
    "# from src.models.resnet import resnet14_d, resnet14_g\n",
    "from src.models.resnet2 import ResNet_D, ResNet_G, weights_init_D\n",
    "from src.train import train\n",
    "\n",
    "\n",
    "tb_logger = TensorBoardLogger()\n",
    "wandb_logger = WandbLogger(project=\"optimal-transport\",\n",
    "                           entity=\"_devourer_\",\n",
    "                           group=\"gauss-to-mnist\",\n",
    "#                            mode=\"offline\",\n",
    "                          )"
   ]
  },
  {
   "cell_type": "code",
   "execution_count": 19,
   "metadata": {},
   "outputs": [
    {
     "name": "stdout",
     "output_type": "stream",
     "text": [
      "cuda\n"
     ]
    }
   ],
   "source": [
    "DEVICE = torch.device(\"cuda\" if torch.cuda.is_available() else \"cpu\")\n",
    "if torch.cuda.is_available():\n",
    "    torch.cuda.set_device(2)\n",
    "print(DEVICE)"
   ]
  },
  {
   "cell_type": "markdown",
   "metadata": {},
   "source": [
    "## Define source and target distributions"
   ]
  },
  {
   "cell_type": "code",
   "execution_count": 87,
   "metadata": {},
   "outputs": [
    {
     "data": {
      "application/vnd.jupyter.widget-view+json": {
       "model_id": "60b9d3393dbb4cd8a89b313ca55602b7",
       "version_major": 2,
       "version_minor": 0
      },
      "text/plain": [
       "  0%|          | 0/60000 [00:00<?, ?it/s]"
      ]
     },
     "metadata": {},
     "output_type": "display_data"
    }
   ],
   "source": [
    "n_components = 10\n",
    "locs = 2 * uniform_circle(n_components)\n",
    "scales = .3 * torch.ones_like(locs)\n",
    "source = GaussianMixture(locs, scales, device=DEVICE)\n",
    "\n",
    "features, classes = load_mnist(\"../data/\",\n",
    "#                                transform=t.Compose([t.Pad(2), t.ToTensor()])\n",
    "                               transform=t.Compose([t.Resize(32), t.ToTensor()])\n",
    "                              )\n",
    "target = TensorDatasetDistribution(features, classes, device=DEVICE)\n",
    "p, q = source.event_shape.numel(), target.event_shape.numel()\n",
    "\n",
    "U, s, V = torch.pca_lowrank(features.flatten(1), p)"
   ]
  },
  {
   "cell_type": "code",
   "execution_count": 88,
   "metadata": {},
   "outputs": [
    {
     "name": "stdout",
     "output_type": "stream",
     "text": [
      "----------------------------------------------------------------\n",
      "        Layer (type)               Output Shape         Param #\n",
      "================================================================\n",
      "            Conv2d-1          [256, 64, 32, 32]             640\n",
      "         LeakyReLU-2          [256, 64, 32, 32]               0\n",
      "            Conv2d-3          [256, 64, 32, 32]          36,928\n",
      "         LeakyReLU-4          [256, 64, 32, 32]               0\n",
      "            Conv2d-5          [256, 64, 32, 32]          36,928\n",
      "         LeakyReLU-6          [256, 64, 32, 32]               0\n",
      "       ResNetBlock-7          [256, 64, 32, 32]               0\n",
      "            Conv2d-8         [256, 128, 32, 32]           8,192\n",
      "            Conv2d-9          [256, 64, 32, 32]          36,928\n",
      "        LeakyReLU-10          [256, 64, 32, 32]               0\n",
      "           Conv2d-11         [256, 128, 32, 32]          73,856\n",
      "        LeakyReLU-12         [256, 128, 32, 32]               0\n",
      "      ResNetBlock-13         [256, 128, 32, 32]               0\n",
      "        AvgPool2d-14         [256, 128, 16, 16]               0\n",
      "           Conv2d-15         [256, 128, 16, 16]         147,584\n",
      "        LeakyReLU-16         [256, 128, 16, 16]               0\n",
      "           Conv2d-17         [256, 128, 16, 16]         147,584\n",
      "        LeakyReLU-18         [256, 128, 16, 16]               0\n",
      "      ResNetBlock-19         [256, 128, 16, 16]               0\n",
      "           Conv2d-20         [256, 256, 16, 16]          32,768\n",
      "           Conv2d-21         [256, 128, 16, 16]         147,584\n",
      "        LeakyReLU-22         [256, 128, 16, 16]               0\n",
      "           Conv2d-23         [256, 256, 16, 16]         295,168\n",
      "        LeakyReLU-24         [256, 256, 16, 16]               0\n",
      "      ResNetBlock-25         [256, 256, 16, 16]               0\n",
      "        AvgPool2d-26           [256, 256, 8, 8]               0\n",
      "           Conv2d-27           [256, 256, 8, 8]         590,080\n",
      "        LeakyReLU-28           [256, 256, 8, 8]               0\n",
      "           Conv2d-29           [256, 256, 8, 8]         590,080\n",
      "        LeakyReLU-30           [256, 256, 8, 8]               0\n",
      "      ResNetBlock-31           [256, 256, 8, 8]               0\n",
      "           Conv2d-32           [256, 512, 8, 8]         131,072\n",
      "           Conv2d-33           [256, 256, 8, 8]         590,080\n",
      "        LeakyReLU-34           [256, 256, 8, 8]               0\n",
      "           Conv2d-35           [256, 512, 8, 8]       1,180,160\n",
      "        LeakyReLU-36           [256, 512, 8, 8]               0\n",
      "      ResNetBlock-37           [256, 512, 8, 8]               0\n",
      "        AvgPool2d-38           [256, 512, 4, 4]               0\n",
      "           Conv2d-39           [256, 512, 4, 4]       2,359,808\n",
      "        LeakyReLU-40           [256, 512, 4, 4]               0\n",
      "           Conv2d-41           [256, 512, 4, 4]       2,359,808\n",
      "        LeakyReLU-42           [256, 512, 4, 4]               0\n",
      "      ResNetBlock-43           [256, 512, 4, 4]               0\n",
      "           Conv2d-44           [256, 512, 4, 4]       2,359,808\n",
      "        LeakyReLU-45           [256, 512, 4, 4]               0\n",
      "           Conv2d-46           [256, 512, 4, 4]       2,359,808\n",
      "        LeakyReLU-47           [256, 512, 4, 4]               0\n",
      "      ResNetBlock-48           [256, 512, 4, 4]               0\n",
      "           Linear-49                   [256, 1]           8,193\n",
      "================================================================\n",
      "Total params: 13,493,057\n",
      "Trainable params: 13,493,057\n",
      "Non-trainable params: 0\n",
      "----------------------------------------------------------------\n",
      "Input size (MB): 1.00\n",
      "Forward/backward pass size (MB): 3888.00\n",
      "Params size (MB): 51.47\n",
      "Estimated Total Size (MB): 3940.47\n",
      "----------------------------------------------------------------\n",
      "----------------------------------------------------------------\n",
      "        Layer (type)               Output Shape         Param #\n",
      "================================================================\n",
      "            Linear-1                [256, 8192]          24,576\n",
      "       BatchNorm1d-2                [256, 8192]          16,384\n",
      "         LeakyReLU-3                [256, 8192]               0\n",
      "            Conv2d-4           [256, 512, 4, 4]       2,359,296\n",
      "       BatchNorm2d-5           [256, 512, 4, 4]           1,024\n",
      "         LeakyReLU-6           [256, 512, 4, 4]               0\n",
      "            Conv2d-7           [256, 512, 4, 4]       2,359,296\n",
      "       BatchNorm2d-8           [256, 512, 4, 4]           1,024\n",
      "         LeakyReLU-9           [256, 512, 4, 4]               0\n",
      "      ResNetBlock-10           [256, 512, 4, 4]               0\n",
      "           Conv2d-11           [256, 512, 4, 4]       2,359,296\n",
      "      BatchNorm2d-12           [256, 512, 4, 4]           1,024\n",
      "        LeakyReLU-13           [256, 512, 4, 4]               0\n",
      "           Conv2d-14           [256, 512, 4, 4]       2,359,296\n",
      "      BatchNorm2d-15           [256, 512, 4, 4]           1,024\n",
      "        LeakyReLU-16           [256, 512, 4, 4]               0\n",
      "      ResNetBlock-17           [256, 512, 4, 4]               0\n",
      "         Upsample-18           [256, 512, 8, 8]               0\n",
      "           Conv2d-19           [256, 256, 8, 8]         131,072\n",
      "      BatchNorm2d-20           [256, 256, 8, 8]             512\n",
      "           Conv2d-21           [256, 256, 8, 8]       1,179,648\n",
      "      BatchNorm2d-22           [256, 256, 8, 8]             512\n",
      "        LeakyReLU-23           [256, 256, 8, 8]               0\n",
      "           Conv2d-24           [256, 256, 8, 8]         589,824\n",
      "      BatchNorm2d-25           [256, 256, 8, 8]             512\n",
      "        LeakyReLU-26           [256, 256, 8, 8]               0\n",
      "      ResNetBlock-27           [256, 256, 8, 8]               0\n",
      "           Conv2d-28           [256, 256, 8, 8]         589,824\n",
      "      BatchNorm2d-29           [256, 256, 8, 8]             512\n",
      "        LeakyReLU-30           [256, 256, 8, 8]               0\n",
      "           Conv2d-31           [256, 256, 8, 8]         589,824\n",
      "      BatchNorm2d-32           [256, 256, 8, 8]             512\n",
      "        LeakyReLU-33           [256, 256, 8, 8]               0\n",
      "      ResNetBlock-34           [256, 256, 8, 8]               0\n",
      "         Upsample-35         [256, 256, 16, 16]               0\n",
      "           Conv2d-36         [256, 128, 16, 16]          32,768\n",
      "      BatchNorm2d-37         [256, 128, 16, 16]             256\n",
      "           Conv2d-38         [256, 128, 16, 16]         294,912\n",
      "      BatchNorm2d-39         [256, 128, 16, 16]             256\n",
      "        LeakyReLU-40         [256, 128, 16, 16]               0\n",
      "           Conv2d-41         [256, 128, 16, 16]         147,456\n",
      "      BatchNorm2d-42         [256, 128, 16, 16]             256\n",
      "        LeakyReLU-43         [256, 128, 16, 16]               0\n",
      "      ResNetBlock-44         [256, 128, 16, 16]               0\n",
      "           Conv2d-45         [256, 128, 16, 16]         147,456\n",
      "      BatchNorm2d-46         [256, 128, 16, 16]             256\n",
      "        LeakyReLU-47         [256, 128, 16, 16]               0\n",
      "           Conv2d-48         [256, 128, 16, 16]         147,456\n",
      "      BatchNorm2d-49         [256, 128, 16, 16]             256\n",
      "        LeakyReLU-50         [256, 128, 16, 16]               0\n",
      "      ResNetBlock-51         [256, 128, 16, 16]               0\n",
      "         Upsample-52         [256, 128, 32, 32]               0\n",
      "           Conv2d-53          [256, 64, 32, 32]           8,192\n",
      "      BatchNorm2d-54          [256, 64, 32, 32]             128\n",
      "           Conv2d-55          [256, 64, 32, 32]          73,728\n",
      "      BatchNorm2d-56          [256, 64, 32, 32]             128\n",
      "        LeakyReLU-57          [256, 64, 32, 32]               0\n",
      "           Conv2d-58          [256, 64, 32, 32]          36,864\n",
      "      BatchNorm2d-59          [256, 64, 32, 32]             128\n",
      "        LeakyReLU-60          [256, 64, 32, 32]               0\n",
      "      ResNetBlock-61          [256, 64, 32, 32]               0\n",
      "           Conv2d-62          [256, 64, 32, 32]          36,864\n",
      "      BatchNorm2d-63          [256, 64, 32, 32]             128\n",
      "        LeakyReLU-64          [256, 64, 32, 32]               0\n",
      "           Conv2d-65          [256, 64, 32, 32]          36,864\n",
      "      BatchNorm2d-66          [256, 64, 32, 32]             128\n",
      "        LeakyReLU-67          [256, 64, 32, 32]               0\n",
      "      ResNetBlock-68          [256, 64, 32, 32]               0\n",
      "           Conv2d-69           [256, 1, 32, 32]             577\n",
      "================================================================\n",
      "Total params: 13,530,049\n",
      "Trainable params: 13,530,049\n",
      "Non-trainable params: 0\n",
      "----------------------------------------------------------------\n",
      "Input size (MB): 0.00\n",
      "Forward/backward pass size (MB): 4306.00\n",
      "Params size (MB): 51.61\n",
      "Estimated Total Size (MB): 4357.61\n",
      "----------------------------------------------------------------\n"
     ]
    }
   ],
   "source": [
    "# critic = resnet18_d(target.event_shape).to(DEVICE)\n",
    "# summary(critic, target.event_shape, batch_size=512)\n",
    "\n",
    "# mover = resnet18_g(target.event_shape, p).to(DEVICE)\n",
    "# summary(mover, (p,), batch_size=512)\n",
    "critic = ResNet_D(size=32, nc=1).to(DEVICE).apply(weights_init_D)\n",
    "summary(critic, target.event_shape, batch_size=256)\n",
    "\n",
    "mover = ResNet_G(p, 32, 1).to(DEVICE)\n",
    "summary(mover, (p,), batch_size=256)"
   ]
  },
  {
   "cell_type": "code",
   "execution_count": 95,
   "metadata": {},
   "outputs": [],
   "source": [
    "def run_experiment(source, target, mover, critic, cost, n_iter, *,\n",
    "                   logger=None, **kwargs):\n",
    "    if logger: \n",
    "        logger.start()\n",
    "        logger.log_hparams(kwargs)\n",
    "    try:\n",
    "        train(source, target, mover, critic, cost,\n",
    "              n_iter=n_iter,\n",
    "              logger=logger,\n",
    "              **kwargs)\n",
    "    except KeyboardInterrupt:\n",
    "        pass\n",
    "    finally:\n",
    "        if logger: logger.finish()"
   ]
  },
  {
   "cell_type": "code",
   "execution_count": 98,
   "metadata": {},
   "outputs": [
    {
     "data": {
      "text/html": [
       "Tracking run with wandb version 0.12.11"
      ],
      "text/plain": [
       "<IPython.core.display.HTML object>"
      ]
     },
     "metadata": {},
     "output_type": "display_data"
    },
    {
     "data": {
      "text/html": [
       "Run data is saved locally in <code>/home/mounted/optimal-transport-and-stuff/notebooks/wandb/run-20220329_085448-38ion2zf</code>"
      ],
      "text/plain": [
       "<IPython.core.display.HTML object>"
      ]
     },
     "metadata": {},
     "output_type": "display_data"
    },
    {
     "data": {
      "text/html": [
       "Syncing run <strong><a href=\"https://wandb.ai/_devourer_/optimal-transport/runs/38ion2zf\" target=\"_blank\">deft-terrain-136</a></strong> to <a href=\"https://wandb.ai/_devourer_/optimal-transport\" target=\"_blank\">Weights & Biases</a> (<a href=\"https://wandb.me/run\" target=\"_blank\">docs</a>)<br/>"
      ],
      "text/plain": [
       "<IPython.core.display.HTML object>"
      ]
     },
     "metadata": {},
     "output_type": "display_data"
    },
    {
     "data": {
      "application/vnd.jupyter.widget-view+json": {
       "model_id": "",
       "version_major": 2,
       "version_minor": 0
      },
      "text/plain": [
       "Output()"
      ]
     },
     "metadata": {},
     "output_type": "display_data"
    },
    {
     "data": {
      "application/vnd.jupyter.widget-view+json": {
       "model_id": "458abda09013423ead29d882e68125c5",
       "version_major": 2,
       "version_minor": 0
      },
      "text/plain": [
       "  0%|          | 0/5000 [00:00<?, ?it/s]"
      ]
     },
     "metadata": {},
     "output_type": "display_data"
    },
    {
     "name": "stderr",
     "output_type": "stream",
     "text": [
      "IOPub message rate exceeded.\n",
      "The notebook server will temporarily stop sending output\n",
      "to the client in order to avoid crashing it.\n",
      "To change this limit, set the config variable\n",
      "`--NotebookApp.iopub_msg_rate_limit`.\n",
      "\n",
      "Current values:\n",
      "NotebookApp.iopub_msg_rate_limit=1000.0 (msgs/sec)\n",
      "NotebookApp.rate_limit_window=3.0 (secs)\n",
      "\n"
     ]
    },
    {
     "data": {
      "image/png": "[encoded data removed]",
      "text/plain": [
       "<Figure size 720x576 with 20 Axes>"
      ]
     },
     "metadata": {},
     "output_type": "display_data"
    },
    {
     "name": "stdout",
     "output_type": "stream",
     "text": [
      "\n"
     ]
    },
    {
     "data": {
      "text/html": [
       "Waiting for W&B process to finish... <strong style=\"color:green\">(success).</strong>"
      ],
      "text/plain": [
       "<IPython.core.display.HTML object>"
      ]
     },
     "metadata": {},
     "output_type": "display_data"
    },
    {
     "data": {
      "application/vnd.jupyter.widget-view+json": {
       "model_id": "",
       "version_major": 2,
       "version_minor": 0
      },
      "text/plain": [
       "VBox(children=(Label(value='3.215 MB of 3.266 MB uploaded (0.000 MB deduped)\\r'), FloatProgress(value=0.984390…"
      ]
     },
     "metadata": {},
     "output_type": "display_data"
    },
    {
     "data": {
      "text/html": [
       "<style>\n",
       "    table.wandb td:nth-child(1) { padding: 0 10px; text-align: right }\n",
       "    .wandb-row { display: flex; flex-direction: row; flex-wrap: wrap; width: 100% }\n",
       "    .wandb-col { display: flex; flex-direction: column; flex-basis: 100%; flex: 1; padding: 10px; }\n",
       "    </style>\n",
       "<div class=\"wandb-row\"><div class=\"wandb-col\"><h3>Run history:</h3><br/><table class=\"wandb\"><tr><td>cost</td><td>█▁▆▆▆█▇▆▆█▆▇▇▆▆▆█▇▆█▇██████▇▆█▇████▇▇█▇▇</td></tr><tr><td>loss</td><td>▁▄▇▇█▇███████▇██▇█████████▇█▇███████████</td></tr></table><br/></div><div class=\"wandb-col\"><h3>Run summary:</h3><br/><table class=\"wandb\"><tr><td>cost</td><td>-0.03555</td></tr><tr><td>loss</td><td>-0.05876</td></tr></table><br/></div></div>"
      ],
      "text/plain": [
       "<IPython.core.display.HTML object>"
      ]
     },
     "metadata": {},
     "output_type": "display_data"
    },
    {
     "data": {
      "text/html": [
       "Synced <strong style=\"color:#cdcd00\">deft-terrain-136</strong>: <a href=\"https://wandb.ai/_devourer_/optimal-transport/runs/38ion2zf\" target=\"_blank\">https://wandb.ai/_devourer_/optimal-transport/runs/38ion2zf</a><br/>Synced 4 W&B file(s), 51 media file(s), 0 artifact file(s) and 0 other file(s)"
      ],
      "text/plain": [
       "<IPython.core.display.HTML object>"
      ]
     },
     "metadata": {},
     "output_type": "display_data"
    },
    {
     "data": {
      "text/html": [
       "Find logs at: <code>./wandb/run-20220329_085448-38ion2zf/logs</code>"
      ],
      "text/plain": [
       "<IPython.core.display.HTML object>"
      ]
     },
     "metadata": {},
     "output_type": "display_data"
    }
   ],
   "source": [
    "lr = 2e-5\n",
    "\n",
    "run_experiment(\n",
    "    source, target, *copy_models(mover, critic),\n",
    "    n_iter=5000,\n",
    "    n_samples=64,\n",
    "#     cost=InnerGW_opt(p, q,\n",
    "#         optimizer_params=dict(lr=lr, weight_decay=1e-10),\n",
    "#         n_iter=10,\n",
    "#         device=DEVICE,\n",
    "#         init=V.T.to(DEVICE)\n",
    "#     ),\n",
    "    cost=InnerGW_exp(V.T.to(DEVICE)),\n",
    "    plotter=ImagePlotter(plot_interval=100, n_images=20, n_samples=2, plot_source=False),\n",
    "    logger=wandb_logger,\n",
    "    n_iter_mover=15,\n",
    "    optimizer=o.AdamW,\n",
    "    optimizer_params=dict(lr=lr, weight_decay=1e-10),\n",
    ")"
   ]
  },
  {
   "cell_type": "code",
   "execution_count": null,
   "metadata": {},
   "outputs": [],
   "source": []
  }
 ],
 "metadata": {
  "interpreter": {
   "hash": "ff4d7889a3e633245f6f5289845f79fcb0cbba3c688731bf4887729c825c107a"
  },
  "kernelspec": {
   "display_name": "Python 3 (ipykernel)",
   "language": "python",
   "name": "python3"
  },
  "language_info": {
   "codemirror_mode": {
    "name": "ipython",
    "version": 3
   },
   "file_extension": ".py",
   "mimetype": "text/x-python",
   "name": "python",
   "nbconvert_exporter": "python",
   "pygments_lexer": "ipython3",
   "version": "3.8.5"
  }
 },
 "nbformat": 4,
 "nbformat_minor": 2
}
