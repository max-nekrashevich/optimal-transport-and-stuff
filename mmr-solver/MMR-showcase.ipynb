{
 "cells": [
  {
   "cell_type": "code",
   "execution_count": 2,
   "metadata": {},
   "outputs": [],
   "source": [
    "import typing as tp\n",
    "\n",
    "import torch\n",
    "import torch.nn as nn\n",
    "import torch.optim as o\n",
    "import torch.distributions as d\n",
    "import matplotlib.pyplot as plt\n",
    "import matplotlib.cm as cm\n",
    "\n",
    "from tqdm.auto import trange\n",
    "from ipywidgets import Output\n",
    "from IPython.display import clear_output, display\n"
   ]
  },
  {
   "cell_type": "code",
   "execution_count": 3,
   "metadata": {},
   "outputs": [],
   "source": [
    "def gmm(locs: torch.Tensor,\n",
    "        scales: tp.Optional[torch.Tensor] = None,\n",
    "        probs: tp.Optional[torch.Tensor] = None) -> d.Distribution:\n",
    "    if scales is None:\n",
    "        scales = torch.ones_like(locs)\n",
    "    if probs is None:\n",
    "        probs = torch.ones(locs.size(0))\n",
    "    mix = d.Categorical(probs)\n",
    "    comp = d.Independent(d.Normal(locs, scales), 1)\n",
    "    return d.MixtureSameFamily(mix, comp)\n",
    "\n",
    "def cost(x1: torch.Tensor, x2: torch.Tensor, p: float = 2.):\n",
    "    return torch.norm(x1 - x2, p, dim=1) ** p"
   ]
  },
  {
   "cell_type": "code",
   "execution_count": 4,
   "metadata": {},
   "outputs": [],
   "source": [
    "def get_pdf_grid(distribution, xrange=(-5, 5, 50), yrange=None):\n",
    "    yrange = yrange or xrange\n",
    "    mesh = torch.meshgrid(torch.linspace(*xrange), torch.linspace(*yrange), indexing=\"xy\")\n",
    "    log_pdf = distribution.log_prob(torch.dstack(mesh))\n",
    "    if log_pdf.ndim > 2:\n",
    "        log_pdf = log_pdf.flatten(2).sum(2)\n",
    "    return log_pdf.exp().numpy()\n",
    "\n",
    "def get_critic_grid(critic, xrange=(-5, 5, 50), yrange=None):\n",
    "    yrange = yrange or xrange\n",
    "    mesh = torch.meshgrid(torch.linspace(*xrange), torch.linspace(*yrange))\n",
    "    with torch.no_grad():\n",
    "        scores = critic(torch.dstack(mesh)).flatten(1)\n",
    "    return scores.numpy()"
   ]
  },
  {
   "cell_type": "code",
   "execution_count": 5,
   "metadata": {},
   "outputs": [],
   "source": [
    "def plot_grid(grid, xrange=(-5, 5, 50), yrange=None, alpha=1., cmap=None, colorbar=False):\n",
    "    yrange = yrange or xrange\n",
    "    dx = .5 * (xrange[1] - xrange[0]) / (xrange[2] - 1)\n",
    "    dy = .5 * (yrange[1] - yrange[0]) / (yrange[2] - 1)\n",
    "    extent = (xrange[0] - dx, xrange[1] + dx, yrange[0] - dy, yrange[1] + dy)\n",
    "    plt.imshow(grid[::-1, :], extent=extent, cmap=cmap, alpha=alpha)\n",
    "    if colorbar:\n",
    "        plt.colorbar()"
   ]
  },
  {
   "cell_type": "code",
   "execution_count": 6,
   "metadata": {},
   "outputs": [],
   "source": [
    "# device = \"cuda\" if torch.cuda.is_available() else \"cpu\"\n",
    "device = None\n",
    "\n",
    "critic = nn.Sequential(\n",
    "    nn.Linear(2, 16), nn.LeakyReLU(),\n",
    "    # nn.BatchNorm1d(16),\n",
    "    nn.Linear(16, 16), nn.LeakyReLU(),\n",
    "    # nn.BatchNorm1d(16),\n",
    "    nn.Linear(16, 1), nn.Tanh()\n",
    ").to(device)\n",
    "\n",
    "mover = nn.Sequential(\n",
    "    nn.Linear(2, 16), nn.LeakyReLU(),\n",
    "    nn.Linear(16, 16), nn.LeakyReLU(),\n",
    "    nn.Linear(16, 16), nn.LeakyReLU(),\n",
    "    nn.Linear(16, 2)\n",
    ").to(device)\n",
    "\n",
    "optimizer_params = dict(lr=1e-4, betas=(.0, .9))\n",
    "\n",
    "critic_opt = o.Adam(critic.parameters(), **optimizer_params)\n",
    "mover_opt = o.Adam(mover.parameters(), **optimizer_params)\n",
    "\n",
    "# # source = d.Uniform(torch.zeros(2), 2 * torch.ones(2))\n",
    "# # source = d.MultivariateNormal(torch.zeros(2), torch.tensor([[1., -.7], [.7, 1.]]))\n",
    "# target = d.MultivariateNormal( torch.ones(2), torch.tensor([[5., -.2], [-4, 5.]]))\n",
    "# # target = d.MultivariateNormal(torch.zeros(2), torch.tensor([[1., -.9], [.9, 1.]]))\n",
    "# source = gmm(torch.tensor([[ 3.,  0.], [ 2.,  2.],\n",
    "#                            [ 0.,  3.], [ 2., -2.],\n",
    "#                            [-3.,  0.], [-2.,  2.],\n",
    "#                            [ 0., -3.], [-2., -2.]]),\n",
    "#              .2 * torch.ones(8, 2))\n",
    "\n",
    "source = d.Normal(torch.tensor([0.,  4.]), torch.tensor([.5, 2.]))\n",
    "target = d.Normal(torch.tensor([0., -3.]), torch.tensor([5., 1.]))"
   ]
  },
  {
   "cell_type": "code",
   "execution_count": 7,
   "metadata": {},
   "outputs": [],
   "source": [
    "n_iter = 5000\n",
    "n_mover_iter = 25\n",
    "n_samples = 256\n",
    "l = .01\n",
    "plot_interval = 5\n",
    "xrange = (-8, 8, 60)"
   ]
  },
  {
   "cell_type": "code",
   "execution_count": 8,
   "metadata": {},
   "outputs": [
    {
     "data": {
      "image/png": "[encoded data removed]",
      "text/plain": [
       "<Figure size 792x360 with 2 Axes>"
      ]
     },
     "metadata": {
      "needs_background": "light"
     },
     "output_type": "display_data"
    }
   ],
   "source": [
    "plt.figure(figsize=(11, 5))\n",
    "plt.subplot(1, 2, 1)\n",
    "plot_grid(get_pdf_grid(source, xrange), xrange)\n",
    "plt.subplot(1, 2, 2)\n",
    "plot_grid(get_pdf_grid(target, xrange), xrange)"
   ]
  },
  {
   "cell_type": "code",
   "execution_count": 10,
   "metadata": {},
   "outputs": [
    {
     "data": {
      "application/vnd.jupyter.widget-view+json": {
       "model_id": "114afca0e8bf4a9291018e3936168434",
       "version_major": 2,
       "version_minor": 0
      },
      "text/plain": [
       "  0%|          | 0/5000 [00:00<?, ?it/s]"
      ]
     },
     "metadata": {},
     "output_type": "display_data"
    },
    {
     "data": {
      "application/vnd.jupyter.widget-view+json": {
       "model_id": "241a39ddf2f04ca984a59825716cdd85",
       "version_major": 2,
       "version_minor": 0
      },
      "text/plain": [
       "Output()"
      ]
     },
     "metadata": {},
     "output_type": "display_data"
    },
    {
     "data": {
      "text/plain": [
       "<Figure size 720x720 with 0 Axes>"
      ]
     },
     "metadata": {},
     "output_type": "display_data"
    }
   ],
   "source": [
    "progress_widget = trange(n_iter)\n",
    "plot_widget = Output()\n",
    "display(plot_widget)\n",
    "\n",
    "try:\n",
    "    for step in progress_widget:\n",
    "        x = source.sample((n_samples,)).to(device)\n",
    "        y = target.sample((n_samples,)).to(device)\n",
    "\n",
    "        for _ in range(n_mover_iter):\n",
    "            h_x = mover(x)\n",
    "            mover_opt.zero_grad()\n",
    "            mover_loss = l * cost(x, h_x).mean() - critic(h_x).mean()\n",
    "            mover_loss.backward()\n",
    "            mover_opt.step()\n",
    "\n",
    "        critic_opt.zero_grad()\n",
    "        critic_loss = critic(h_x.detach()).mean() - critic(y).mean()\n",
    "        critic_loss.backward()\n",
    "        critic_opt.step()\n",
    "\n",
    "        with torch.no_grad():\n",
    "            loss = critic(y).mean() + l * cost(x, h_x).mean() - critic(h_x).mean()\n",
    "            progress_widget.set_postfix({\"loss\": loss.item()})\n",
    "\n",
    "        if step % plot_interval == 0:\n",
    "            with plot_widget:\n",
    "                try:\n",
    "                    clear_output(wait=True)\n",
    "                    plt.figure(figsize=(10, 10))\n",
    "                    plt.scatter(*x.detach().cpu().numpy().T,\n",
    "                                color=\"blue\", label=\"Source samples\", alpha=.5)\n",
    "                    plt.scatter(*y.detach().cpu().numpy().T,\n",
    "                                color=\"green\", label=\"Target samples\", alpha=.5)\n",
    "                    plt.scatter(*h_x.detach().cpu().numpy().T,\n",
    "                                color=\"purple\", label=\"Moved samples\", alpha=.5)\n",
    "                    plot_grid(get_critic_grid(critic, xrange), xrange, alpha=.5, cmap=cm.PRGn)\n",
    "                    plt.legend(loc=\"upper left\")\n",
    "                    plt.xlim(xrange[:2])\n",
    "                    plt.ylim(xrange[:2])\n",
    "                    plt.show()\n",
    "                except KeyboardInterrupt:\n",
    "                    break\n",
    "except KeyboardInterrupt:\n",
    "    pass"
   ]
  },
  {
   "cell_type": "code",
   "execution_count": null,
   "metadata": {},
   "outputs": [],
   "source": []
  }
 ],
 "metadata": {
  "interpreter": {
   "hash": "d4760a2aed70c75301a3c2b9ee5e8eceb93c5169db4507899f9ff86b174e1bb8"
  },
  "kernelspec": {
   "display_name": "Python 3.9.9 64-bit ('pytorch': conda)",
   "language": "python",
   "name": "python3"
  },
  "language_info": {
   "codemirror_mode": {
    "name": "ipython",
    "version": 3
   },
   "file_extension": ".py",
   "mimetype": "text/x-python",
   "name": "python",
   "nbconvert_exporter": "python",
   "pygments_lexer": "ipython3",
   "version": "3.9.9"
  },
  "orig_nbformat": 4
 },
 "nbformat": 4,
 "nbformat_minor": 2
}
