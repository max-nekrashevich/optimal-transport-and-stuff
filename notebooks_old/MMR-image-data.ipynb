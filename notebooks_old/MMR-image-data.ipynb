{
 "cells": [
  {
   "cell_type": "code",
   "execution_count": 2,
   "metadata": {},
   "outputs": [
    {
     "name": "stdout",
     "output_type": "stream",
     "text": [
      "The autoreload extension is already loaded. To reload it, use:\n",
      "  %reload_ext autoreload\n"
     ]
    }
   ],
   "source": [
    "%load_ext autoreload\n",
    "%autoreload 2"
   ]
  },
  {
   "cell_type": "code",
   "execution_count": 42,
   "metadata": {},
   "outputs": [],
   "source": [
    "from itertools import cycle\n",
    "from pathlib import Path\n",
    "DATA_PATH = Path(\"../../data/\")\n",
    "\n",
    "\n",
    "import torch\n",
    "import torchvision.transforms as t\n",
    "import matplotlib.pyplot as plt\n",
    "import wandb\n",
    "\n",
    "from torchvision.datasets import ImageFolder, FashionMNIST\n",
    "from torch.utils.data import RandomSampler, DataLoader, TensorDataset\n",
    "\n"
   ]
  },
  {
   "cell_type": "code",
   "execution_count": 73,
   "metadata": {},
   "outputs": [],
   "source": [
    "transform = t.Compose([t.Resize(32), t.ToTensor()])"
   ]
  },
  {
   "cell_type": "code",
   "execution_count": 74,
   "metadata": {},
   "outputs": [],
   "source": [
    "shoes = ImageFolder(DATA_PATH/\"ut-zap50k-images-square\", transform=transform)\n",
    "anime = ImageFolder(DATA_PATH/\"anime-faces\", transform=transform)"
   ]
  },
  {
   "cell_type": "code",
   "execution_count": 57,
   "metadata": {},
   "outputs": [],
   "source": [
    "class DatasetSampler:\n",
    "    def __init__(self, dataset, n_samples, **loader_kwargs):\n",
    "        self.dataset = dataset\n",
    "        sampler = RandomSampler(dataset,\n",
    "                                replacement=True,\n",
    "                                num_samples=n_samples)\n",
    "        self.stream = cycle(DataLoader(self.dataset,\n",
    "                                       n_samples,\n",
    "                                       sampler=sampler,\n",
    "                                       **loader_kwargs))\n",
    "\n",
    "    def sample(self):\n",
    "        return next(self.stream)"
   ]
  },
  {
   "cell_type": "code",
   "execution_count": null,
   "metadata": {},
   "outputs": [],
   "source": [
    "source = DatasetSampler(shoes, 32)\n",
    "target = DatasetSampler(anime, 32)"
   ]
  }
 ],
 "metadata": {
  "interpreter": {
   "hash": "d4760a2aed70c75301a3c2b9ee5e8eceb93c5169db4507899f9ff86b174e1bb8"
  },
  "kernelspec": {
   "display_name": "Python 3.9.9 64-bit ('pytorch': conda)",
   "language": "python",
   "name": "python3"
  },
  "language_info": {
   "codemirror_mode": {
    "name": "ipython",
    "version": 3
   },
   "file_extension": ".py",
   "mimetype": "text/x-python",
   "name": "python",
   "nbconvert_exporter": "python",
   "pygments_lexer": "ipython3",
   "version": "3.9.9"
  },
  "orig_nbformat": 4
 },
 "nbformat": 4,
 "nbformat_minor": 2
}
